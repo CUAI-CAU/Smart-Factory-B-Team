{
 "cells": [
  {
   "cell_type": "markdown",
   "metadata": {},
   "source": [
    "## UCI SECOM(Linear Regression)-2\n",
    "#### Data preprocessing\n",
    "- 결측값50%넘는 열 삭제후 남은 결측값은 fillna함수의 method='ffill'&'bfill'을 이용해 채운다. \n",
    "- 이후 고유치 개수가 1인 열을 제거한다"
   ]
  },
  {
   "cell_type": "code",
   "execution_count": 27,
   "metadata": {},
   "outputs": [],
   "source": [
    "#Import Libraries\n",
    "import numpy as np\n",
    "import pandas as pd\n",
    "import matplotlib.pyplot as plt\n",
    "import seaborn as sns\n",
    "%matplotlib inline"
   ]
  },
  {
   "cell_type": "code",
   "execution_count": 28,
   "metadata": {},
   "outputs": [],
   "source": [
    "# Read the data\n",
    "data = pd.read_csv('uci-secom.csv')"
   ]
  },
  {
   "cell_type": "code",
   "execution_count": 29,
   "metadata": {},
   "outputs": [
    {
     "name": "stdout",
     "output_type": "stream",
     "text": [
      "(1567, 592)\n"
     ]
    },
    {
     "data": {
      "text/html": [
       "<div>\n",
       "<style scoped>\n",
       "    .dataframe tbody tr th:only-of-type {\n",
       "        vertical-align: middle;\n",
       "    }\n",
       "\n",
       "    .dataframe tbody tr th {\n",
       "        vertical-align: top;\n",
       "    }\n",
       "\n",
       "    .dataframe thead th {\n",
       "        text-align: right;\n",
       "    }\n",
       "</style>\n",
       "<table border=\"1\" class=\"dataframe\">\n",
       "  <thead>\n",
       "    <tr style=\"text-align: right;\">\n",
       "      <th></th>\n",
       "      <th>Time</th>\n",
       "      <th>0</th>\n",
       "      <th>1</th>\n",
       "      <th>2</th>\n",
       "      <th>3</th>\n",
       "      <th>4</th>\n",
       "      <th>5</th>\n",
       "      <th>6</th>\n",
       "      <th>7</th>\n",
       "      <th>8</th>\n",
       "      <th>...</th>\n",
       "      <th>581</th>\n",
       "      <th>582</th>\n",
       "      <th>583</th>\n",
       "      <th>584</th>\n",
       "      <th>585</th>\n",
       "      <th>586</th>\n",
       "      <th>587</th>\n",
       "      <th>588</th>\n",
       "      <th>589</th>\n",
       "      <th>Pass/Fail</th>\n",
       "    </tr>\n",
       "  </thead>\n",
       "  <tbody>\n",
       "    <tr>\n",
       "      <th>0</th>\n",
       "      <td>2008-07-19 11:55:00</td>\n",
       "      <td>3030.93</td>\n",
       "      <td>2564.00</td>\n",
       "      <td>2187.7333</td>\n",
       "      <td>1411.1265</td>\n",
       "      <td>1.3602</td>\n",
       "      <td>100.0</td>\n",
       "      <td>97.6133</td>\n",
       "      <td>0.1242</td>\n",
       "      <td>1.5005</td>\n",
       "      <td>...</td>\n",
       "      <td>NaN</td>\n",
       "      <td>0.5005</td>\n",
       "      <td>0.0118</td>\n",
       "      <td>0.0035</td>\n",
       "      <td>2.3630</td>\n",
       "      <td>NaN</td>\n",
       "      <td>NaN</td>\n",
       "      <td>NaN</td>\n",
       "      <td>NaN</td>\n",
       "      <td>-1</td>\n",
       "    </tr>\n",
       "    <tr>\n",
       "      <th>1</th>\n",
       "      <td>2008-07-19 12:32:00</td>\n",
       "      <td>3095.78</td>\n",
       "      <td>2465.14</td>\n",
       "      <td>2230.4222</td>\n",
       "      <td>1463.6606</td>\n",
       "      <td>0.8294</td>\n",
       "      <td>100.0</td>\n",
       "      <td>102.3433</td>\n",
       "      <td>0.1247</td>\n",
       "      <td>1.4966</td>\n",
       "      <td>...</td>\n",
       "      <td>208.2045</td>\n",
       "      <td>0.5019</td>\n",
       "      <td>0.0223</td>\n",
       "      <td>0.0055</td>\n",
       "      <td>4.4447</td>\n",
       "      <td>0.0096</td>\n",
       "      <td>0.0201</td>\n",
       "      <td>0.0060</td>\n",
       "      <td>208.2045</td>\n",
       "      <td>-1</td>\n",
       "    </tr>\n",
       "    <tr>\n",
       "      <th>2</th>\n",
       "      <td>2008-07-19 13:17:00</td>\n",
       "      <td>2932.61</td>\n",
       "      <td>2559.94</td>\n",
       "      <td>2186.4111</td>\n",
       "      <td>1698.0172</td>\n",
       "      <td>1.5102</td>\n",
       "      <td>100.0</td>\n",
       "      <td>95.4878</td>\n",
       "      <td>0.1241</td>\n",
       "      <td>1.4436</td>\n",
       "      <td>...</td>\n",
       "      <td>82.8602</td>\n",
       "      <td>0.4958</td>\n",
       "      <td>0.0157</td>\n",
       "      <td>0.0039</td>\n",
       "      <td>3.1745</td>\n",
       "      <td>0.0584</td>\n",
       "      <td>0.0484</td>\n",
       "      <td>0.0148</td>\n",
       "      <td>82.8602</td>\n",
       "      <td>1</td>\n",
       "    </tr>\n",
       "    <tr>\n",
       "      <th>3</th>\n",
       "      <td>2008-07-19 14:43:00</td>\n",
       "      <td>2988.72</td>\n",
       "      <td>2479.90</td>\n",
       "      <td>2199.0333</td>\n",
       "      <td>909.7926</td>\n",
       "      <td>1.3204</td>\n",
       "      <td>100.0</td>\n",
       "      <td>104.2367</td>\n",
       "      <td>0.1217</td>\n",
       "      <td>1.4882</td>\n",
       "      <td>...</td>\n",
       "      <td>73.8432</td>\n",
       "      <td>0.4990</td>\n",
       "      <td>0.0103</td>\n",
       "      <td>0.0025</td>\n",
       "      <td>2.0544</td>\n",
       "      <td>0.0202</td>\n",
       "      <td>0.0149</td>\n",
       "      <td>0.0044</td>\n",
       "      <td>73.8432</td>\n",
       "      <td>-1</td>\n",
       "    </tr>\n",
       "    <tr>\n",
       "      <th>4</th>\n",
       "      <td>2008-07-19 15:22:00</td>\n",
       "      <td>3032.24</td>\n",
       "      <td>2502.87</td>\n",
       "      <td>2233.3667</td>\n",
       "      <td>1326.5200</td>\n",
       "      <td>1.5334</td>\n",
       "      <td>100.0</td>\n",
       "      <td>100.3967</td>\n",
       "      <td>0.1235</td>\n",
       "      <td>1.5031</td>\n",
       "      <td>...</td>\n",
       "      <td>NaN</td>\n",
       "      <td>0.4800</td>\n",
       "      <td>0.4766</td>\n",
       "      <td>0.1045</td>\n",
       "      <td>99.3032</td>\n",
       "      <td>0.0202</td>\n",
       "      <td>0.0149</td>\n",
       "      <td>0.0044</td>\n",
       "      <td>73.8432</td>\n",
       "      <td>-1</td>\n",
       "    </tr>\n",
       "  </tbody>\n",
       "</table>\n",
       "<p>5 rows × 592 columns</p>\n",
       "</div>"
      ],
      "text/plain": [
       "                  Time        0        1          2          3       4      5  \\\n",
       "0  2008-07-19 11:55:00  3030.93  2564.00  2187.7333  1411.1265  1.3602  100.0   \n",
       "1  2008-07-19 12:32:00  3095.78  2465.14  2230.4222  1463.6606  0.8294  100.0   \n",
       "2  2008-07-19 13:17:00  2932.61  2559.94  2186.4111  1698.0172  1.5102  100.0   \n",
       "3  2008-07-19 14:43:00  2988.72  2479.90  2199.0333   909.7926  1.3204  100.0   \n",
       "4  2008-07-19 15:22:00  3032.24  2502.87  2233.3667  1326.5200  1.5334  100.0   \n",
       "\n",
       "          6       7       8  ...       581     582     583     584      585  \\\n",
       "0   97.6133  0.1242  1.5005  ...       NaN  0.5005  0.0118  0.0035   2.3630   \n",
       "1  102.3433  0.1247  1.4966  ...  208.2045  0.5019  0.0223  0.0055   4.4447   \n",
       "2   95.4878  0.1241  1.4436  ...   82.8602  0.4958  0.0157  0.0039   3.1745   \n",
       "3  104.2367  0.1217  1.4882  ...   73.8432  0.4990  0.0103  0.0025   2.0544   \n",
       "4  100.3967  0.1235  1.5031  ...       NaN  0.4800  0.4766  0.1045  99.3032   \n",
       "\n",
       "      586     587     588       589  Pass/Fail  \n",
       "0     NaN     NaN     NaN       NaN         -1  \n",
       "1  0.0096  0.0201  0.0060  208.2045         -1  \n",
       "2  0.0584  0.0484  0.0148   82.8602          1  \n",
       "3  0.0202  0.0149  0.0044   73.8432         -1  \n",
       "4  0.0202  0.0149  0.0044   73.8432         -1  \n",
       "\n",
       "[5 rows x 592 columns]"
      ]
     },
     "execution_count": 29,
     "metadata": {},
     "output_type": "execute_result"
    }
   ],
   "source": [
    "# Data shape 및 상위 5개 열 보기\n",
    "print(data.shape)\n",
    "data.head()"
   ]
  },
  {
   "cell_type": "code",
   "execution_count": 30,
   "metadata": {},
   "outputs": [
    {
     "data": {
      "text/html": [
       "<div>\n",
       "<style scoped>\n",
       "    .dataframe tbody tr th:only-of-type {\n",
       "        vertical-align: middle;\n",
       "    }\n",
       "\n",
       "    .dataframe tbody tr th {\n",
       "        vertical-align: top;\n",
       "    }\n",
       "\n",
       "    .dataframe thead th {\n",
       "        text-align: right;\n",
       "    }\n",
       "</style>\n",
       "<table border=\"1\" class=\"dataframe\">\n",
       "  <thead>\n",
       "    <tr style=\"text-align: right;\">\n",
       "      <th></th>\n",
       "      <th>Time</th>\n",
       "      <th>0</th>\n",
       "      <th>1</th>\n",
       "      <th>2</th>\n",
       "      <th>3</th>\n",
       "      <th>4</th>\n",
       "      <th>5</th>\n",
       "      <th>6</th>\n",
       "      <th>7</th>\n",
       "      <th>8</th>\n",
       "      <th>...</th>\n",
       "      <th>581</th>\n",
       "      <th>582</th>\n",
       "      <th>583</th>\n",
       "      <th>584</th>\n",
       "      <th>585</th>\n",
       "      <th>586</th>\n",
       "      <th>587</th>\n",
       "      <th>588</th>\n",
       "      <th>589</th>\n",
       "      <th>Pass/Fail</th>\n",
       "    </tr>\n",
       "  </thead>\n",
       "  <tbody>\n",
       "    <tr>\n",
       "      <th>count</th>\n",
       "      <td>1567</td>\n",
       "      <td>1561.000000</td>\n",
       "      <td>1560.000000</td>\n",
       "      <td>1553.000000</td>\n",
       "      <td>1553.000000</td>\n",
       "      <td>1553.000000</td>\n",
       "      <td>1553.0</td>\n",
       "      <td>1553.000000</td>\n",
       "      <td>1558.000000</td>\n",
       "      <td>1565.000000</td>\n",
       "      <td>...</td>\n",
       "      <td>618.000000</td>\n",
       "      <td>1566.000000</td>\n",
       "      <td>1566.000000</td>\n",
       "      <td>1566.000000</td>\n",
       "      <td>1566.000000</td>\n",
       "      <td>1566.000000</td>\n",
       "      <td>1566.000000</td>\n",
       "      <td>1566.000000</td>\n",
       "      <td>1566.000000</td>\n",
       "      <td>1567.000000</td>\n",
       "    </tr>\n",
       "    <tr>\n",
       "      <th>unique</th>\n",
       "      <td>1534</td>\n",
       "      <td>NaN</td>\n",
       "      <td>NaN</td>\n",
       "      <td>NaN</td>\n",
       "      <td>NaN</td>\n",
       "      <td>NaN</td>\n",
       "      <td>NaN</td>\n",
       "      <td>NaN</td>\n",
       "      <td>NaN</td>\n",
       "      <td>NaN</td>\n",
       "      <td>...</td>\n",
       "      <td>NaN</td>\n",
       "      <td>NaN</td>\n",
       "      <td>NaN</td>\n",
       "      <td>NaN</td>\n",
       "      <td>NaN</td>\n",
       "      <td>NaN</td>\n",
       "      <td>NaN</td>\n",
       "      <td>NaN</td>\n",
       "      <td>NaN</td>\n",
       "      <td>NaN</td>\n",
       "    </tr>\n",
       "    <tr>\n",
       "      <th>top</th>\n",
       "      <td>2008-10-15 01:52:00</td>\n",
       "      <td>NaN</td>\n",
       "      <td>NaN</td>\n",
       "      <td>NaN</td>\n",
       "      <td>NaN</td>\n",
       "      <td>NaN</td>\n",
       "      <td>NaN</td>\n",
       "      <td>NaN</td>\n",
       "      <td>NaN</td>\n",
       "      <td>NaN</td>\n",
       "      <td>...</td>\n",
       "      <td>NaN</td>\n",
       "      <td>NaN</td>\n",
       "      <td>NaN</td>\n",
       "      <td>NaN</td>\n",
       "      <td>NaN</td>\n",
       "      <td>NaN</td>\n",
       "      <td>NaN</td>\n",
       "      <td>NaN</td>\n",
       "      <td>NaN</td>\n",
       "      <td>NaN</td>\n",
       "    </tr>\n",
       "    <tr>\n",
       "      <th>freq</th>\n",
       "      <td>3</td>\n",
       "      <td>NaN</td>\n",
       "      <td>NaN</td>\n",
       "      <td>NaN</td>\n",
       "      <td>NaN</td>\n",
       "      <td>NaN</td>\n",
       "      <td>NaN</td>\n",
       "      <td>NaN</td>\n",
       "      <td>NaN</td>\n",
       "      <td>NaN</td>\n",
       "      <td>...</td>\n",
       "      <td>NaN</td>\n",
       "      <td>NaN</td>\n",
       "      <td>NaN</td>\n",
       "      <td>NaN</td>\n",
       "      <td>NaN</td>\n",
       "      <td>NaN</td>\n",
       "      <td>NaN</td>\n",
       "      <td>NaN</td>\n",
       "      <td>NaN</td>\n",
       "      <td>NaN</td>\n",
       "    </tr>\n",
       "    <tr>\n",
       "      <th>mean</th>\n",
       "      <td>NaN</td>\n",
       "      <td>3014.452896</td>\n",
       "      <td>2495.850231</td>\n",
       "      <td>2200.547318</td>\n",
       "      <td>1396.376627</td>\n",
       "      <td>4.197013</td>\n",
       "      <td>100.0</td>\n",
       "      <td>101.112908</td>\n",
       "      <td>0.121822</td>\n",
       "      <td>1.462862</td>\n",
       "      <td>...</td>\n",
       "      <td>97.934373</td>\n",
       "      <td>0.500096</td>\n",
       "      <td>0.015318</td>\n",
       "      <td>0.003847</td>\n",
       "      <td>3.067826</td>\n",
       "      <td>0.021458</td>\n",
       "      <td>0.016475</td>\n",
       "      <td>0.005283</td>\n",
       "      <td>99.670066</td>\n",
       "      <td>-0.867262</td>\n",
       "    </tr>\n",
       "    <tr>\n",
       "      <th>std</th>\n",
       "      <td>NaN</td>\n",
       "      <td>73.621787</td>\n",
       "      <td>80.407705</td>\n",
       "      <td>29.513152</td>\n",
       "      <td>441.691640</td>\n",
       "      <td>56.355540</td>\n",
       "      <td>0.0</td>\n",
       "      <td>6.237214</td>\n",
       "      <td>0.008961</td>\n",
       "      <td>0.073897</td>\n",
       "      <td>...</td>\n",
       "      <td>87.520966</td>\n",
       "      <td>0.003404</td>\n",
       "      <td>0.017180</td>\n",
       "      <td>0.003720</td>\n",
       "      <td>3.578033</td>\n",
       "      <td>0.012358</td>\n",
       "      <td>0.008808</td>\n",
       "      <td>0.002867</td>\n",
       "      <td>93.891919</td>\n",
       "      <td>0.498010</td>\n",
       "    </tr>\n",
       "    <tr>\n",
       "      <th>min</th>\n",
       "      <td>NaN</td>\n",
       "      <td>2743.240000</td>\n",
       "      <td>2158.750000</td>\n",
       "      <td>2060.660000</td>\n",
       "      <td>0.000000</td>\n",
       "      <td>0.681500</td>\n",
       "      <td>100.0</td>\n",
       "      <td>82.131100</td>\n",
       "      <td>0.000000</td>\n",
       "      <td>1.191000</td>\n",
       "      <td>...</td>\n",
       "      <td>0.000000</td>\n",
       "      <td>0.477800</td>\n",
       "      <td>0.006000</td>\n",
       "      <td>0.001700</td>\n",
       "      <td>1.197500</td>\n",
       "      <td>-0.016900</td>\n",
       "      <td>0.003200</td>\n",
       "      <td>0.001000</td>\n",
       "      <td>0.000000</td>\n",
       "      <td>-1.000000</td>\n",
       "    </tr>\n",
       "    <tr>\n",
       "      <th>25%</th>\n",
       "      <td>NaN</td>\n",
       "      <td>2966.260000</td>\n",
       "      <td>2452.247500</td>\n",
       "      <td>2181.044400</td>\n",
       "      <td>1081.875800</td>\n",
       "      <td>1.017700</td>\n",
       "      <td>100.0</td>\n",
       "      <td>97.920000</td>\n",
       "      <td>0.121100</td>\n",
       "      <td>1.411200</td>\n",
       "      <td>...</td>\n",
       "      <td>46.184900</td>\n",
       "      <td>0.497900</td>\n",
       "      <td>0.011600</td>\n",
       "      <td>0.003100</td>\n",
       "      <td>2.306500</td>\n",
       "      <td>0.013425</td>\n",
       "      <td>0.010600</td>\n",
       "      <td>0.003300</td>\n",
       "      <td>44.368600</td>\n",
       "      <td>-1.000000</td>\n",
       "    </tr>\n",
       "    <tr>\n",
       "      <th>50%</th>\n",
       "      <td>NaN</td>\n",
       "      <td>3011.490000</td>\n",
       "      <td>2499.405000</td>\n",
       "      <td>2201.066700</td>\n",
       "      <td>1285.214400</td>\n",
       "      <td>1.316800</td>\n",
       "      <td>100.0</td>\n",
       "      <td>101.512200</td>\n",
       "      <td>0.122400</td>\n",
       "      <td>1.461600</td>\n",
       "      <td>...</td>\n",
       "      <td>72.288900</td>\n",
       "      <td>0.500200</td>\n",
       "      <td>0.013800</td>\n",
       "      <td>0.003600</td>\n",
       "      <td>2.757650</td>\n",
       "      <td>0.020500</td>\n",
       "      <td>0.014800</td>\n",
       "      <td>0.004600</td>\n",
       "      <td>71.900500</td>\n",
       "      <td>-1.000000</td>\n",
       "    </tr>\n",
       "    <tr>\n",
       "      <th>75%</th>\n",
       "      <td>NaN</td>\n",
       "      <td>3056.650000</td>\n",
       "      <td>2538.822500</td>\n",
       "      <td>2218.055500</td>\n",
       "      <td>1591.223500</td>\n",
       "      <td>1.525700</td>\n",
       "      <td>100.0</td>\n",
       "      <td>104.586700</td>\n",
       "      <td>0.123800</td>\n",
       "      <td>1.516900</td>\n",
       "      <td>...</td>\n",
       "      <td>116.539150</td>\n",
       "      <td>0.502375</td>\n",
       "      <td>0.016500</td>\n",
       "      <td>0.004100</td>\n",
       "      <td>3.295175</td>\n",
       "      <td>0.027600</td>\n",
       "      <td>0.020300</td>\n",
       "      <td>0.006400</td>\n",
       "      <td>114.749700</td>\n",
       "      <td>-1.000000</td>\n",
       "    </tr>\n",
       "    <tr>\n",
       "      <th>max</th>\n",
       "      <td>NaN</td>\n",
       "      <td>3356.350000</td>\n",
       "      <td>2846.440000</td>\n",
       "      <td>2315.266700</td>\n",
       "      <td>3715.041700</td>\n",
       "      <td>1114.536600</td>\n",
       "      <td>100.0</td>\n",
       "      <td>129.252200</td>\n",
       "      <td>0.128600</td>\n",
       "      <td>1.656400</td>\n",
       "      <td>...</td>\n",
       "      <td>737.304800</td>\n",
       "      <td>0.509800</td>\n",
       "      <td>0.476600</td>\n",
       "      <td>0.104500</td>\n",
       "      <td>99.303200</td>\n",
       "      <td>0.102800</td>\n",
       "      <td>0.079900</td>\n",
       "      <td>0.028600</td>\n",
       "      <td>737.304800</td>\n",
       "      <td>1.000000</td>\n",
       "    </tr>\n",
       "  </tbody>\n",
       "</table>\n",
       "<p>11 rows × 592 columns</p>\n",
       "</div>"
      ],
      "text/plain": [
       "                       Time            0            1            2  \\\n",
       "count                  1567  1561.000000  1560.000000  1553.000000   \n",
       "unique                 1534          NaN          NaN          NaN   \n",
       "top     2008-10-15 01:52:00          NaN          NaN          NaN   \n",
       "freq                      3          NaN          NaN          NaN   \n",
       "mean                    NaN  3014.452896  2495.850231  2200.547318   \n",
       "std                     NaN    73.621787    80.407705    29.513152   \n",
       "min                     NaN  2743.240000  2158.750000  2060.660000   \n",
       "25%                     NaN  2966.260000  2452.247500  2181.044400   \n",
       "50%                     NaN  3011.490000  2499.405000  2201.066700   \n",
       "75%                     NaN  3056.650000  2538.822500  2218.055500   \n",
       "max                     NaN  3356.350000  2846.440000  2315.266700   \n",
       "\n",
       "                  3            4       5            6            7  \\\n",
       "count   1553.000000  1553.000000  1553.0  1553.000000  1558.000000   \n",
       "unique          NaN          NaN     NaN          NaN          NaN   \n",
       "top             NaN          NaN     NaN          NaN          NaN   \n",
       "freq            NaN          NaN     NaN          NaN          NaN   \n",
       "mean    1396.376627     4.197013   100.0   101.112908     0.121822   \n",
       "std      441.691640    56.355540     0.0     6.237214     0.008961   \n",
       "min        0.000000     0.681500   100.0    82.131100     0.000000   \n",
       "25%     1081.875800     1.017700   100.0    97.920000     0.121100   \n",
       "50%     1285.214400     1.316800   100.0   101.512200     0.122400   \n",
       "75%     1591.223500     1.525700   100.0   104.586700     0.123800   \n",
       "max     3715.041700  1114.536600   100.0   129.252200     0.128600   \n",
       "\n",
       "                  8  ...         581          582          583          584  \\\n",
       "count   1565.000000  ...  618.000000  1566.000000  1566.000000  1566.000000   \n",
       "unique          NaN  ...         NaN          NaN          NaN          NaN   \n",
       "top             NaN  ...         NaN          NaN          NaN          NaN   \n",
       "freq            NaN  ...         NaN          NaN          NaN          NaN   \n",
       "mean       1.462862  ...   97.934373     0.500096     0.015318     0.003847   \n",
       "std        0.073897  ...   87.520966     0.003404     0.017180     0.003720   \n",
       "min        1.191000  ...    0.000000     0.477800     0.006000     0.001700   \n",
       "25%        1.411200  ...   46.184900     0.497900     0.011600     0.003100   \n",
       "50%        1.461600  ...   72.288900     0.500200     0.013800     0.003600   \n",
       "75%        1.516900  ...  116.539150     0.502375     0.016500     0.004100   \n",
       "max        1.656400  ...  737.304800     0.509800     0.476600     0.104500   \n",
       "\n",
       "                585          586          587          588          589  \\\n",
       "count   1566.000000  1566.000000  1566.000000  1566.000000  1566.000000   \n",
       "unique          NaN          NaN          NaN          NaN          NaN   \n",
       "top             NaN          NaN          NaN          NaN          NaN   \n",
       "freq            NaN          NaN          NaN          NaN          NaN   \n",
       "mean       3.067826     0.021458     0.016475     0.005283    99.670066   \n",
       "std        3.578033     0.012358     0.008808     0.002867    93.891919   \n",
       "min        1.197500    -0.016900     0.003200     0.001000     0.000000   \n",
       "25%        2.306500     0.013425     0.010600     0.003300    44.368600   \n",
       "50%        2.757650     0.020500     0.014800     0.004600    71.900500   \n",
       "75%        3.295175     0.027600     0.020300     0.006400   114.749700   \n",
       "max       99.303200     0.102800     0.079900     0.028600   737.304800   \n",
       "\n",
       "          Pass/Fail  \n",
       "count   1567.000000  \n",
       "unique          NaN  \n",
       "top             NaN  \n",
       "freq            NaN  \n",
       "mean      -0.867262  \n",
       "std        0.498010  \n",
       "min       -1.000000  \n",
       "25%       -1.000000  \n",
       "50%       -1.000000  \n",
       "75%       -1.000000  \n",
       "max        1.000000  \n",
       "\n",
       "[11 rows x 592 columns]"
      ]
     },
     "execution_count": 30,
     "metadata": {},
     "output_type": "execute_result"
    }
   ],
   "source": [
    "# include='all'하면 입력의 모든 열이 데이터 출력으로 포함, 기본값인 'None'은 수치데이터가 있는 열만 결과에 포함\n",
    "data.describe(include='all')"
   ]
  },
  {
   "cell_type": "markdown",
   "metadata": {},
   "source": [
    "## 1. Data Preprocessing"
   ]
  },
  {
   "cell_type": "code",
   "execution_count": 31,
   "metadata": {},
   "outputs": [
    {
     "data": {
      "text/plain": [
       "True"
      ]
     },
     "execution_count": 31,
     "metadata": {},
     "output_type": "execute_result"
    }
   ],
   "source": [
    "# Check data's Null values\n",
    "data.isnull().any().any()"
   ]
  },
  {
   "cell_type": "code",
   "execution_count": 32,
   "metadata": {},
   "outputs": [],
   "source": [
    "# Column에서 결측값의 percentage를 나타내는 함수 정의\n",
    "# pd.concat->데이터 프레임 결합\n",
    "# df.shape[0]은 데이터 전체 열의 개수\n",
    "def null_values(df):\n",
    "    nv=pd.concat([df.isnull().sum(), 100 * df.isnull().sum()/df.shape[0]],axis=1).rename(columns={0:'Missing_Records', 1:'Percentage (%)'})\n",
    "    return nv[nv.Missing_Records>0].sort_values('Missing_Records', ascending=False)"
   ]
  },
  {
   "cell_type": "code",
   "execution_count": 33,
   "metadata": {},
   "outputs": [
    {
     "data": {
      "text/html": [
       "<div>\n",
       "<style scoped>\n",
       "    .dataframe tbody tr th:only-of-type {\n",
       "        vertical-align: middle;\n",
       "    }\n",
       "\n",
       "    .dataframe tbody tr th {\n",
       "        vertical-align: top;\n",
       "    }\n",
       "\n",
       "    .dataframe thead th {\n",
       "        text-align: right;\n",
       "    }\n",
       "</style>\n",
       "<table border=\"1\" class=\"dataframe\">\n",
       "  <thead>\n",
       "    <tr style=\"text-align: right;\">\n",
       "      <th></th>\n",
       "      <th>Missing_Records</th>\n",
       "      <th>Percentage (%)</th>\n",
       "    </tr>\n",
       "  </thead>\n",
       "  <tbody>\n",
       "    <tr>\n",
       "      <th>292</th>\n",
       "      <td>1429</td>\n",
       "      <td>91.193363</td>\n",
       "    </tr>\n",
       "    <tr>\n",
       "      <th>293</th>\n",
       "      <td>1429</td>\n",
       "      <td>91.193363</td>\n",
       "    </tr>\n",
       "    <tr>\n",
       "      <th>157</th>\n",
       "      <td>1429</td>\n",
       "      <td>91.193363</td>\n",
       "    </tr>\n",
       "    <tr>\n",
       "      <th>158</th>\n",
       "      <td>1429</td>\n",
       "      <td>91.193363</td>\n",
       "    </tr>\n",
       "    <tr>\n",
       "      <th>358</th>\n",
       "      <td>1341</td>\n",
       "      <td>85.577537</td>\n",
       "    </tr>\n",
       "    <tr>\n",
       "      <th>...</th>\n",
       "      <td>...</td>\n",
       "      <td>...</td>\n",
       "    </tr>\n",
       "    <tr>\n",
       "      <th>456</th>\n",
       "      <td>1</td>\n",
       "      <td>0.063816</td>\n",
       "    </tr>\n",
       "    <tr>\n",
       "      <th>218</th>\n",
       "      <td>1</td>\n",
       "      <td>0.063816</td>\n",
       "    </tr>\n",
       "    <tr>\n",
       "      <th>356</th>\n",
       "      <td>1</td>\n",
       "      <td>0.063816</td>\n",
       "    </tr>\n",
       "    <tr>\n",
       "      <th>457</th>\n",
       "      <td>1</td>\n",
       "      <td>0.063816</td>\n",
       "    </tr>\n",
       "    <tr>\n",
       "      <th>589</th>\n",
       "      <td>1</td>\n",
       "      <td>0.063816</td>\n",
       "    </tr>\n",
       "  </tbody>\n",
       "</table>\n",
       "<p>538 rows × 2 columns</p>\n",
       "</div>"
      ],
      "text/plain": [
       "     Missing_Records  Percentage (%)\n",
       "292             1429       91.193363\n",
       "293             1429       91.193363\n",
       "157             1429       91.193363\n",
       "158             1429       91.193363\n",
       "358             1341       85.577537\n",
       "..               ...             ...\n",
       "456                1        0.063816\n",
       "218                1        0.063816\n",
       "356                1        0.063816\n",
       "457                1        0.063816\n",
       "589                1        0.063816\n",
       "\n",
       "[538 rows x 2 columns]"
      ]
     },
     "execution_count": 33,
     "metadata": {},
     "output_type": "execute_result"
    }
   ],
   "source": [
    "df_na = null_values(data)\n",
    "df_na"
   ]
  },
  {
   "cell_type": "code",
   "execution_count": 34,
   "metadata": {},
   "outputs": [
    {
     "data": {
      "text/plain": [
       "(28, 2)"
      ]
     },
     "execution_count": 34,
     "metadata": {},
     "output_type": "execute_result"
    }
   ],
   "source": [
    "# 결측값의 비율이 50% 넘는 열 개수 확인\n",
    "df_na = df_na[df_na[\"Percentage (%)\"] > 50]\n",
    "df_na\n",
    "df_na.shape"
   ]
  },
  {
   "cell_type": "code",
   "execution_count": 35,
   "metadata": {},
   "outputs": [
    {
     "data": {
      "text/plain": [
       "Index(['292', '293', '157', '158', '358', '85', '492', '220', '518', '246',\n",
       "       '245', '516', '517', '110', '384', '382', '383', '109', '244', '111',\n",
       "       '580', '578', '581', '579', '73', '72', '345', '346'],\n",
       "      dtype='object')"
      ]
     },
     "execution_count": 35,
     "metadata": {},
     "output_type": "execute_result"
    }
   ],
   "source": [
    "# 결측값의 비율이 50% 넘는 열 확인\n",
    "df_na.index"
   ]
  },
  {
   "cell_type": "code",
   "execution_count": 36,
   "metadata": {},
   "outputs": [
    {
     "data": {
      "text/plain": [
       "(1567, 564)"
      ]
     },
     "execution_count": 36,
     "metadata": {},
     "output_type": "execute_result"
    }
   ],
   "source": [
    "# 결측값의 비율이 50% 넘는 열 삭제\n",
    "data = data.drop(axis=1, columns=df_na.index)\n",
    "data.shape"
   ]
  },
  {
   "cell_type": "code",
   "execution_count": 37,
   "metadata": {},
   "outputs": [
    {
     "data": {
      "text/html": [
       "<div>\n",
       "<style scoped>\n",
       "    .dataframe tbody tr th:only-of-type {\n",
       "        vertical-align: middle;\n",
       "    }\n",
       "\n",
       "    .dataframe tbody tr th {\n",
       "        vertical-align: top;\n",
       "    }\n",
       "\n",
       "    .dataframe thead th {\n",
       "        text-align: right;\n",
       "    }\n",
       "</style>\n",
       "<table border=\"1\" class=\"dataframe\">\n",
       "  <thead>\n",
       "    <tr style=\"text-align: right;\">\n",
       "      <th></th>\n",
       "      <th>Time</th>\n",
       "      <th>0</th>\n",
       "      <th>1</th>\n",
       "      <th>2</th>\n",
       "      <th>3</th>\n",
       "      <th>4</th>\n",
       "      <th>5</th>\n",
       "      <th>6</th>\n",
       "      <th>7</th>\n",
       "      <th>8</th>\n",
       "      <th>...</th>\n",
       "      <th>577</th>\n",
       "      <th>582</th>\n",
       "      <th>583</th>\n",
       "      <th>584</th>\n",
       "      <th>585</th>\n",
       "      <th>586</th>\n",
       "      <th>587</th>\n",
       "      <th>588</th>\n",
       "      <th>589</th>\n",
       "      <th>Pass/Fail</th>\n",
       "    </tr>\n",
       "  </thead>\n",
       "  <tbody>\n",
       "    <tr>\n",
       "      <th>0</th>\n",
       "      <td>2008-07-19 11:55:00</td>\n",
       "      <td>3030.93</td>\n",
       "      <td>2564.00</td>\n",
       "      <td>2187.7333</td>\n",
       "      <td>1411.1265</td>\n",
       "      <td>1.3602</td>\n",
       "      <td>100.0</td>\n",
       "      <td>97.6133</td>\n",
       "      <td>0.1242</td>\n",
       "      <td>1.5005</td>\n",
       "      <td>...</td>\n",
       "      <td>14.9509</td>\n",
       "      <td>0.5005</td>\n",
       "      <td>0.0118</td>\n",
       "      <td>0.0035</td>\n",
       "      <td>2.3630</td>\n",
       "      <td>0.0096</td>\n",
       "      <td>0.0201</td>\n",
       "      <td>0.0060</td>\n",
       "      <td>208.2045</td>\n",
       "      <td>-1</td>\n",
       "    </tr>\n",
       "    <tr>\n",
       "      <th>1</th>\n",
       "      <td>2008-07-19 12:32:00</td>\n",
       "      <td>3095.78</td>\n",
       "      <td>2465.14</td>\n",
       "      <td>2230.4222</td>\n",
       "      <td>1463.6606</td>\n",
       "      <td>0.8294</td>\n",
       "      <td>100.0</td>\n",
       "      <td>102.3433</td>\n",
       "      <td>0.1247</td>\n",
       "      <td>1.4966</td>\n",
       "      <td>...</td>\n",
       "      <td>10.9003</td>\n",
       "      <td>0.5019</td>\n",
       "      <td>0.0223</td>\n",
       "      <td>0.0055</td>\n",
       "      <td>4.4447</td>\n",
       "      <td>0.0096</td>\n",
       "      <td>0.0201</td>\n",
       "      <td>0.0060</td>\n",
       "      <td>208.2045</td>\n",
       "      <td>-1</td>\n",
       "    </tr>\n",
       "    <tr>\n",
       "      <th>2</th>\n",
       "      <td>2008-07-19 13:17:00</td>\n",
       "      <td>2932.61</td>\n",
       "      <td>2559.94</td>\n",
       "      <td>2186.4111</td>\n",
       "      <td>1698.0172</td>\n",
       "      <td>1.5102</td>\n",
       "      <td>100.0</td>\n",
       "      <td>95.4878</td>\n",
       "      <td>0.1241</td>\n",
       "      <td>1.4436</td>\n",
       "      <td>...</td>\n",
       "      <td>9.2721</td>\n",
       "      <td>0.4958</td>\n",
       "      <td>0.0157</td>\n",
       "      <td>0.0039</td>\n",
       "      <td>3.1745</td>\n",
       "      <td>0.0584</td>\n",
       "      <td>0.0484</td>\n",
       "      <td>0.0148</td>\n",
       "      <td>82.8602</td>\n",
       "      <td>1</td>\n",
       "    </tr>\n",
       "    <tr>\n",
       "      <th>3</th>\n",
       "      <td>2008-07-19 14:43:00</td>\n",
       "      <td>2988.72</td>\n",
       "      <td>2479.90</td>\n",
       "      <td>2199.0333</td>\n",
       "      <td>909.7926</td>\n",
       "      <td>1.3204</td>\n",
       "      <td>100.0</td>\n",
       "      <td>104.2367</td>\n",
       "      <td>0.1217</td>\n",
       "      <td>1.4882</td>\n",
       "      <td>...</td>\n",
       "      <td>8.5831</td>\n",
       "      <td>0.4990</td>\n",
       "      <td>0.0103</td>\n",
       "      <td>0.0025</td>\n",
       "      <td>2.0544</td>\n",
       "      <td>0.0202</td>\n",
       "      <td>0.0149</td>\n",
       "      <td>0.0044</td>\n",
       "      <td>73.8432</td>\n",
       "      <td>-1</td>\n",
       "    </tr>\n",
       "    <tr>\n",
       "      <th>4</th>\n",
       "      <td>2008-07-19 15:22:00</td>\n",
       "      <td>3032.24</td>\n",
       "      <td>2502.87</td>\n",
       "      <td>2233.3667</td>\n",
       "      <td>1326.5200</td>\n",
       "      <td>1.5334</td>\n",
       "      <td>100.0</td>\n",
       "      <td>100.3967</td>\n",
       "      <td>0.1235</td>\n",
       "      <td>1.5031</td>\n",
       "      <td>...</td>\n",
       "      <td>10.9698</td>\n",
       "      <td>0.4800</td>\n",
       "      <td>0.4766</td>\n",
       "      <td>0.1045</td>\n",
       "      <td>99.3032</td>\n",
       "      <td>0.0202</td>\n",
       "      <td>0.0149</td>\n",
       "      <td>0.0044</td>\n",
       "      <td>73.8432</td>\n",
       "      <td>-1</td>\n",
       "    </tr>\n",
       "    <tr>\n",
       "      <th>...</th>\n",
       "      <td>...</td>\n",
       "      <td>...</td>\n",
       "      <td>...</td>\n",
       "      <td>...</td>\n",
       "      <td>...</td>\n",
       "      <td>...</td>\n",
       "      <td>...</td>\n",
       "      <td>...</td>\n",
       "      <td>...</td>\n",
       "      <td>...</td>\n",
       "      <td>...</td>\n",
       "      <td>...</td>\n",
       "      <td>...</td>\n",
       "      <td>...</td>\n",
       "      <td>...</td>\n",
       "      <td>...</td>\n",
       "      <td>...</td>\n",
       "      <td>...</td>\n",
       "      <td>...</td>\n",
       "      <td>...</td>\n",
       "      <td>...</td>\n",
       "    </tr>\n",
       "    <tr>\n",
       "      <th>1562</th>\n",
       "      <td>2008-10-16 15:13:00</td>\n",
       "      <td>2899.41</td>\n",
       "      <td>2464.36</td>\n",
       "      <td>2179.7333</td>\n",
       "      <td>3085.3781</td>\n",
       "      <td>1.4843</td>\n",
       "      <td>100.0</td>\n",
       "      <td>82.2467</td>\n",
       "      <td>0.1248</td>\n",
       "      <td>1.3424</td>\n",
       "      <td>...</td>\n",
       "      <td>11.7256</td>\n",
       "      <td>0.4988</td>\n",
       "      <td>0.0143</td>\n",
       "      <td>0.0039</td>\n",
       "      <td>2.8669</td>\n",
       "      <td>0.0068</td>\n",
       "      <td>0.0138</td>\n",
       "      <td>0.0047</td>\n",
       "      <td>203.1720</td>\n",
       "      <td>-1</td>\n",
       "    </tr>\n",
       "    <tr>\n",
       "      <th>1563</th>\n",
       "      <td>2008-10-16 20:49:00</td>\n",
       "      <td>3052.31</td>\n",
       "      <td>2522.55</td>\n",
       "      <td>2198.5667</td>\n",
       "      <td>1124.6595</td>\n",
       "      <td>0.8763</td>\n",
       "      <td>100.0</td>\n",
       "      <td>98.4689</td>\n",
       "      <td>0.1205</td>\n",
       "      <td>1.4333</td>\n",
       "      <td>...</td>\n",
       "      <td>17.8379</td>\n",
       "      <td>0.4975</td>\n",
       "      <td>0.0131</td>\n",
       "      <td>0.0036</td>\n",
       "      <td>2.6238</td>\n",
       "      <td>0.0068</td>\n",
       "      <td>0.0138</td>\n",
       "      <td>0.0047</td>\n",
       "      <td>203.1720</td>\n",
       "      <td>-1</td>\n",
       "    </tr>\n",
       "    <tr>\n",
       "      <th>1564</th>\n",
       "      <td>2008-10-17 05:26:00</td>\n",
       "      <td>2978.81</td>\n",
       "      <td>2379.78</td>\n",
       "      <td>2206.3000</td>\n",
       "      <td>1110.4967</td>\n",
       "      <td>0.8236</td>\n",
       "      <td>100.0</td>\n",
       "      <td>99.4122</td>\n",
       "      <td>0.1208</td>\n",
       "      <td>1.4333</td>\n",
       "      <td>...</td>\n",
       "      <td>17.7267</td>\n",
       "      <td>0.4987</td>\n",
       "      <td>0.0153</td>\n",
       "      <td>0.0041</td>\n",
       "      <td>3.0590</td>\n",
       "      <td>0.0197</td>\n",
       "      <td>0.0086</td>\n",
       "      <td>0.0025</td>\n",
       "      <td>43.5231</td>\n",
       "      <td>-1</td>\n",
       "    </tr>\n",
       "    <tr>\n",
       "      <th>1565</th>\n",
       "      <td>2008-10-17 06:01:00</td>\n",
       "      <td>2894.92</td>\n",
       "      <td>2532.01</td>\n",
       "      <td>2177.0333</td>\n",
       "      <td>1183.7287</td>\n",
       "      <td>1.5726</td>\n",
       "      <td>100.0</td>\n",
       "      <td>98.7978</td>\n",
       "      <td>0.1213</td>\n",
       "      <td>1.4622</td>\n",
       "      <td>...</td>\n",
       "      <td>19.2104</td>\n",
       "      <td>0.5004</td>\n",
       "      <td>0.0178</td>\n",
       "      <td>0.0038</td>\n",
       "      <td>3.5662</td>\n",
       "      <td>0.0262</td>\n",
       "      <td>0.0245</td>\n",
       "      <td>0.0075</td>\n",
       "      <td>93.4941</td>\n",
       "      <td>-1</td>\n",
       "    </tr>\n",
       "    <tr>\n",
       "      <th>1566</th>\n",
       "      <td>2008-10-17 06:07:00</td>\n",
       "      <td>2944.92</td>\n",
       "      <td>2450.76</td>\n",
       "      <td>2195.4444</td>\n",
       "      <td>2914.1792</td>\n",
       "      <td>1.5978</td>\n",
       "      <td>100.0</td>\n",
       "      <td>85.1011</td>\n",
       "      <td>0.1235</td>\n",
       "      <td>1.4622</td>\n",
       "      <td>...</td>\n",
       "      <td>22.9183</td>\n",
       "      <td>0.4987</td>\n",
       "      <td>0.0181</td>\n",
       "      <td>0.0040</td>\n",
       "      <td>3.6275</td>\n",
       "      <td>0.0117</td>\n",
       "      <td>0.0162</td>\n",
       "      <td>0.0045</td>\n",
       "      <td>137.7844</td>\n",
       "      <td>-1</td>\n",
       "    </tr>\n",
       "  </tbody>\n",
       "</table>\n",
       "<p>1567 rows × 564 columns</p>\n",
       "</div>"
      ],
      "text/plain": [
       "                     Time        0        1          2          3       4  \\\n",
       "0     2008-07-19 11:55:00  3030.93  2564.00  2187.7333  1411.1265  1.3602   \n",
       "1     2008-07-19 12:32:00  3095.78  2465.14  2230.4222  1463.6606  0.8294   \n",
       "2     2008-07-19 13:17:00  2932.61  2559.94  2186.4111  1698.0172  1.5102   \n",
       "3     2008-07-19 14:43:00  2988.72  2479.90  2199.0333   909.7926  1.3204   \n",
       "4     2008-07-19 15:22:00  3032.24  2502.87  2233.3667  1326.5200  1.5334   \n",
       "...                   ...      ...      ...        ...        ...     ...   \n",
       "1562  2008-10-16 15:13:00  2899.41  2464.36  2179.7333  3085.3781  1.4843   \n",
       "1563  2008-10-16 20:49:00  3052.31  2522.55  2198.5667  1124.6595  0.8763   \n",
       "1564  2008-10-17 05:26:00  2978.81  2379.78  2206.3000  1110.4967  0.8236   \n",
       "1565  2008-10-17 06:01:00  2894.92  2532.01  2177.0333  1183.7287  1.5726   \n",
       "1566  2008-10-17 06:07:00  2944.92  2450.76  2195.4444  2914.1792  1.5978   \n",
       "\n",
       "          5         6       7       8  ...      577     582     583     584  \\\n",
       "0     100.0   97.6133  0.1242  1.5005  ...  14.9509  0.5005  0.0118  0.0035   \n",
       "1     100.0  102.3433  0.1247  1.4966  ...  10.9003  0.5019  0.0223  0.0055   \n",
       "2     100.0   95.4878  0.1241  1.4436  ...   9.2721  0.4958  0.0157  0.0039   \n",
       "3     100.0  104.2367  0.1217  1.4882  ...   8.5831  0.4990  0.0103  0.0025   \n",
       "4     100.0  100.3967  0.1235  1.5031  ...  10.9698  0.4800  0.4766  0.1045   \n",
       "...     ...       ...     ...     ...  ...      ...     ...     ...     ...   \n",
       "1562  100.0   82.2467  0.1248  1.3424  ...  11.7256  0.4988  0.0143  0.0039   \n",
       "1563  100.0   98.4689  0.1205  1.4333  ...  17.8379  0.4975  0.0131  0.0036   \n",
       "1564  100.0   99.4122  0.1208  1.4333  ...  17.7267  0.4987  0.0153  0.0041   \n",
       "1565  100.0   98.7978  0.1213  1.4622  ...  19.2104  0.5004  0.0178  0.0038   \n",
       "1566  100.0   85.1011  0.1235  1.4622  ...  22.9183  0.4987  0.0181  0.0040   \n",
       "\n",
       "          585     586     587     588       589  Pass/Fail  \n",
       "0      2.3630  0.0096  0.0201  0.0060  208.2045         -1  \n",
       "1      4.4447  0.0096  0.0201  0.0060  208.2045         -1  \n",
       "2      3.1745  0.0584  0.0484  0.0148   82.8602          1  \n",
       "3      2.0544  0.0202  0.0149  0.0044   73.8432         -1  \n",
       "4     99.3032  0.0202  0.0149  0.0044   73.8432         -1  \n",
       "...       ...     ...     ...     ...       ...        ...  \n",
       "1562   2.8669  0.0068  0.0138  0.0047  203.1720         -1  \n",
       "1563   2.6238  0.0068  0.0138  0.0047  203.1720         -1  \n",
       "1564   3.0590  0.0197  0.0086  0.0025   43.5231         -1  \n",
       "1565   3.5662  0.0262  0.0245  0.0075   93.4941         -1  \n",
       "1566   3.6275  0.0117  0.0162  0.0045  137.7844         -1  \n",
       "\n",
       "[1567 rows x 564 columns]"
      ]
     },
     "execution_count": 37,
     "metadata": {},
     "output_type": "execute_result"
    }
   ],
   "source": [
    "# 나머지 열의 결측값은  나머지는 fillna의 method='ffill'과 'bfill'을 통해 결측값을 앞뒤 방향으로 채운다.\n",
    "data.fillna(method='ffill', inplace=True)\n",
    "data.fillna(method='bfill', inplace=True)\n",
    "data"
   ]
  },
  {
   "cell_type": "code",
   "execution_count": 38,
   "metadata": {},
   "outputs": [
    {
     "data": {
      "text/plain": [
       "False"
      ]
     },
     "execution_count": 38,
     "metadata": {},
     "output_type": "execute_result"
    }
   ],
   "source": [
    "data.isnull().any().any()"
   ]
  },
  {
   "cell_type": "code",
   "execution_count": 39,
   "metadata": {},
   "outputs": [
    {
     "data": {
      "text/plain": [
       "1"
      ]
     },
     "execution_count": 39,
     "metadata": {},
     "output_type": "execute_result"
    }
   ],
   "source": [
    "# nunique() 함수를 써서 5열의 고유치 개수를 확인\n",
    "data[\"5\"].nunique()"
   ]
  },
  {
   "cell_type": "code",
   "execution_count": 40,
   "metadata": {},
   "outputs": [],
   "source": [
    "# Column '5'와 같이 고유값이 1개인 열을 저장하는 unique_columns함수 생성\n",
    "def unique_columns(df):\n",
    "    uni_col_list = []\n",
    "    for column in df.columns:\n",
    "        if df[column].nunique() == 1:\n",
    "            uni_col_list.append(column)\n",
    "    return uni_col_list"
   ]
  },
  {
   "cell_type": "code",
   "execution_count": 41,
   "metadata": {},
   "outputs": [
    {
     "data": {
      "text/plain": [
       "116"
      ]
     },
     "execution_count": 41,
     "metadata": {},
     "output_type": "execute_result"
    }
   ],
   "source": [
    "# 고유치 개수가 1개인 열의 개수 확인\n",
    "len(unique_columns(data))"
   ]
  },
  {
   "cell_type": "code",
   "execution_count": 42,
   "metadata": {},
   "outputs": [
    {
     "data": {
      "text/plain": [
       "(1567, 564)"
      ]
     },
     "execution_count": 42,
     "metadata": {},
     "output_type": "execute_result"
    }
   ],
   "source": [
    "data.shape"
   ]
  },
  {
   "cell_type": "code",
   "execution_count": 43,
   "metadata": {},
   "outputs": [
    {
     "data": {
      "text/plain": [
       "(1567, 448)"
      ]
     },
     "execution_count": 43,
     "metadata": {},
     "output_type": "execute_result"
    }
   ],
   "source": [
    "data = data.drop(axis=1, columns=unique_columns(data))\n",
    "data.shape"
   ]
  },
  {
   "cell_type": "markdown",
   "metadata": {},
   "source": [
    "### Data Scaling\n",
    "- 1. StandardScaler \n",
    "- 2. PCA 차원축소"
   ]
  },
  {
   "cell_type": "code",
   "execution_count": 44,
   "metadata": {},
   "outputs": [],
   "source": [
    "# Train/Test Dataset split을 위해 Dataset을 Data/Target값으로 분리\n",
    "X = data.iloc[:, 1:-1]\n",
    "y = data.iloc[:, -1]"
   ]
  },
  {
   "cell_type": "code",
   "execution_count": 45,
   "metadata": {},
   "outputs": [],
   "source": [
    "from imblearn.over_sampling import SMOTE\n",
    "X_resample, y_resample  = SMOTE(random_state=1).fit_sample(X, y.values.ravel())"
   ]
  },
  {
   "cell_type": "markdown",
   "metadata": {},
   "source": [
    "(1) StandardScaler: 각 feature의 평균을 0, 분산을 1로 변경, 모든 feature들이 같은 Scale을 갖게된다."
   ]
  },
  {
   "cell_type": "code",
   "execution_count": 46,
   "metadata": {},
   "outputs": [],
   "source": [
    "# 먼저 데이터를 학습용과 테스트용으로 분할\n",
    "# test_test_split의 random_state를 제외한 다른 하이퍼파라미터는 default로 두기\n",
    "from sklearn.model_selection import train_test_split\n",
    "X_train, X_test, y_train, y_test = train_test_split(X_resample, y_resample, random_state=50)"
   ]
  },
  {
   "cell_type": "markdown",
   "metadata": {},
   "source": [
    "#### ※ Scaler를 사용하기 전에 주의할 점\n",
    "scaler는 fit과 transform 매서드를 지니고 있다. fit 매서드로 데이터 변환을 학습하고, transform 매서드로 실제 데이터의 스케일을 조정한다.\n",
    "이때! fit 매서드는 학습용 데이터에만 적용해야한다. 그 후 transform 매서드를 학습용 데이터와 테스트 데이터에 적용한다."
   ]
  },
  {
   "cell_type": "code",
   "execution_count": 47,
   "metadata": {
    "scrolled": true
   },
   "outputs": [
    {
     "name": "stdout",
     "output_type": "stream",
     "text": [
      "Features Min value before Scale : \n",
      " 0      2770.4000\n",
      "1      2158.7500\n",
      "2      2060.6600\n",
      "3         0.0000\n",
      "4         0.6815\n",
      "         ...    \n",
      "585       1.2845\n",
      "586      -0.0060\n",
      "587       0.0032\n",
      "588       0.0010\n",
      "589       0.0000\n",
      "Length: 446, dtype: float64\n",
      "Features Max value before Scale : \n",
      " 0      3356.3500\n",
      "1      2846.4400\n",
      "2      2315.2667\n",
      "3      3715.0417\n",
      "4      1112.4728\n",
      "         ...    \n",
      "585      99.3032\n",
      "586       0.1028\n",
      "587       0.0799\n",
      "588       0.0286\n",
      "589     737.3048\n",
      "Length: 446, dtype: float64\n",
      "Features Min value after Scale : \n",
      " [-3.30731663e+00 -4.59571275e+00 -5.21938515e+00 -3.65398101e+00\n",
      " -4.94427401e-02 -3.46324375e+00 -2.00457529e+01 -4.38977089e+00\n",
      " -3.87362655e+00 -4.05128807e+00 -2.76524610e+01 -6.22678393e+00\n",
      " -2.49560932e+00 -2.01573721e+00 -9.08130583e-01 -3.73845933e+01\n",
      " -8.42145819e+00 -1.56319748e+01 -1.50675439e+01 -2.09745911e+00\n",
      " -7.36148101e+00 -4.56610732e+00 -5.62185877e+00 -5.64327483e+00\n",
      " -7.25048781e+00 -4.62743147e+00 -2.97351791e+00 -4.32672173e+00\n",
      " -4.75654218e+00 -3.22403160e+00 -1.10380626e+00 -9.86760778e-01\n",
      " -7.03928397e-01 -3.73092327e-01 -8.81393408e+00 -5.03585477e+00\n",
      " -4.24511711e+00 -4.61138345e+00 -2.66936682e+00 -1.65673116e+00\n",
      " -2.28965673e+00 -3.54075285e+00 -3.58523386e+00 -3.08709542e+00\n",
      " -4.07525928e+00 -3.33555305e+00 -3.25195725e+00 -2.04553522e+00\n",
      " -1.90517715e+01 -1.76672307e+01 -2.12500237e+00 -9.22344101e+00\n",
      " -4.39407940e+00 -5.03228568e+00 -3.65695188e+00 -5.62800991e+00\n",
      " -3.67485447e+00 -3.69926919e+00 -1.97203745e+00 -2.67145555e+00\n",
      " -3.26613756e+00 -6.81313528e+00 -5.63793380e-02 -9.64568247e+00\n",
      " -3.91975553e+00 -2.66093295e+00 -2.13540711e-02 -4.10702182e+00\n",
      " -3.83273524e+00 -3.32966386e+00 -7.31869030e+00 -2.86792968e+00\n",
      " -2.38612213e+00 -4.85632380e+00 -3.57229490e+00 -3.27148882e+00\n",
      " -3.48152837e+00 -4.86340148e+00 -1.40780577e+01 -3.68417001e+00\n",
      " -1.10818483e+00 -4.07451127e+00 -4.74287181e+00 -4.24330818e+00\n",
      " -6.25172119e+00 -9.24463669e+00 -4.83237130e+00 -8.12091303e+00\n",
      " -1.03280599e+01 -7.18605060e+00 -8.88828072e+00 -8.90766526e+00\n",
      " -7.79882343e+00 -7.94411316e+00 -1.16838177e+01 -9.77954777e+00\n",
      " -5.07946284e+00 -6.26440000e+00 -3.83144784e+00 -6.63864371e+00\n",
      " -8.51572480e+00 -1.45222268e-01 -4.52285216e+00 -1.11560185e+01\n",
      " -1.02473804e+00 -9.90479052e+00 -1.62592460e+01 -5.01740118e+00\n",
      " -3.91316105e+00 -2.77087972e+00 -6.92667736e+00 -3.63251440e+00\n",
      " -3.49332187e+00 -1.80447699e+00 -2.80239860e+00 -1.44998947e+01\n",
      " -3.30616917e+00 -4.77355392e+00 -2.19140103e+00 -2.48215369e+00\n",
      " -3.66980012e+00 -2.21201830e+00 -1.11028407e+00 -2.08099458e+00\n",
      " -2.27715330e+00 -3.39036657e+00 -1.66615847e+00 -3.11876407e-02\n",
      " -1.57200032e+00 -3.72797963e+00 -1.48558857e+00 -1.81975676e+00\n",
      " -1.67318643e+00 -6.03678303e-01 -4.27896619e-01 -1.82098279e+00\n",
      " -5.09633365e-01 -4.81837289e-02 -1.22917895e+00 -1.31871543e+00\n",
      " -3.87342032e-01 -6.98894589e-01 -8.45798984e-01 -9.89107587e-01\n",
      " -1.03127597e+00 -7.52639265e-01 -1.01415624e+00 -4.84973192e-01\n",
      " -5.50499224e-01 -1.30742870e+00 -1.47376035e+00 -2.00984128e+00\n",
      " -1.87261494e+00 -2.62563004e+00 -2.12872952e+00 -3.16570252e+00\n",
      " -3.75294339e+00 -3.16557740e+00 -3.15592281e+00 -2.49237910e+00\n",
      " -1.28705633e+00 -3.10444121e+00 -2.18640780e+00 -2.03110099e+00\n",
      " -3.64209283e+00 -1.19594295e+00 -8.83233459e-01 -1.54086403e+00\n",
      " -1.89576480e+00 -5.05543352e-01 -5.18875821e-01 -1.26148383e+00\n",
      " -1.11801539e+00 -6.17963958e-01 -2.25328398e+00 -1.73124600e+00\n",
      " -8.56223824e-01 -1.53217216e+00 -5.67371701e-02 -7.79555577e-01\n",
      " -2.13540711e-02 -1.22740149e+00 -2.61924704e+00 -2.13540711e-02\n",
      " -1.32925967e+00 -1.83051527e+00 -1.45761758e+00 -1.12998867e+00\n",
      " -1.35559168e+00 -2.68026387e+00 -3.06892622e+00 -1.54340986e+00\n",
      " -2.51558868e+00 -1.74861247e+00 -1.75615922e+00 -1.86086162e-01\n",
      " -2.70924284e+00 -6.76531609e-01 -2.15010016e+00 -1.38082362e+00\n",
      " -1.27326958e+00 -2.24735033e+00 -2.29696943e+00 -9.44944652e-01\n",
      " -5.58498008e-01 -1.40915884e-01 -1.83860637e+00 -1.17484429e-01\n",
      " -6.27142169e-02 -1.14909204e+00 -1.43979527e+00 -2.58474787e+00\n",
      " -1.78938204e+00 -1.96702342e+00 -2.30648166e+00 -1.72486574e+00\n",
      " -2.21077299e+00 -2.22755800e+00 -3.32778795e+00 -1.68280061e+00\n",
      " -3.11894134e-02 -1.64201109e+00 -3.81028213e+00 -1.56068583e+00\n",
      " -1.90071458e+00 -1.64759664e+00 -6.11463897e-01 -4.42062631e-01\n",
      " -1.86323689e+00 -4.57386752e-01 -4.56812820e-02 -1.26746929e+00\n",
      " -1.44688246e+00 -4.14811471e-01 -7.36852011e-01 -7.82277637e-01\n",
      " -9.01641996e-01 -1.02573019e+00 -7.44403230e-01 -8.80608134e-01\n",
      " -4.37648258e-01 -4.94012332e-01 -1.54874146e+00 -1.47571434e+00\n",
      " -2.14366731e+00 -1.91905305e+00 -2.80222408e+00 -2.08050697e+00\n",
      " -3.14056031e+00 -4.21227499e+00 -3.14017515e+00 -3.34737906e+00\n",
      " -2.40272641e+00 -1.22511905e+00 -3.30927983e+00 -2.13748758e+00\n",
      " -2.02063481e+00 -3.24829262e+00 -1.25133769e+00 -9.14812623e-01\n",
      " -1.71851524e+00 -1.87926129e+00 -9.36613881e-01 -4.45389951e-01\n",
      " -1.27275266e+00 -1.05421386e+00 -5.52696748e-01 -7.80632819e-01\n",
      " -1.52898020e+00 -6.60273441e-01 -1.41563691e+00 -5.83268882e-02\n",
      " -7.30232417e-01 -2.13540711e-02 -1.22804237e+00 -2.58286748e+00\n",
      " -2.13540711e-02 -1.08103367e+00 -1.88600114e+00 -1.44256640e+00\n",
      " -1.08733626e+00 -1.61607574e+00 -2.63011779e+00 -3.08108447e+00\n",
      " -1.54524037e+00 -2.52656180e+00 -1.58222716e+00 -1.59815365e+00\n",
      " -1.72779922e-01 -2.71354452e+00 -6.83709055e-01 -2.12029593e+00\n",
      " -1.39663872e+00 -1.36706103e+00 -1.43400067e+00 -1.77679248e+00\n",
      " -2.37777798e+00 -2.66250416e+00 -9.70484432e-01 -6.00568839e-01\n",
      " -1.41193475e-01 -1.89699101e+00 -1.15040350e-01 -5.67149183e-02\n",
      " -1.23997583e+00 -1.42491020e+00 -2.93843049e+00 -1.74959141e+00\n",
      " -1.75852405e+00 -2.43162104e+00 -1.07083126e+00 -2.07707790e+00\n",
      " -2.26431687e+00 -3.35270137e+00 -1.80929686e+00 -6.47881227e-01\n",
      " -1.46100922e+00 -3.75537548e+00 -1.55119172e+00 -1.14979660e+00\n",
      " -1.06454112e+00 -5.61842386e-01 -5.68264675e-01 -1.89389476e+00\n",
      " -5.62609863e-01 -2.96665079e-01 -1.20178967e+00 -1.19985592e+00\n",
      " -3.35257301e-01 -6.22108072e-01 -4.42550183e-01 -5.30459681e-01\n",
      " -8.68766820e-01 -1.00084999e+00 -3.91567251e-01 -2.82325555e-01\n",
      " -2.45035460e-01 -1.30020637e+00 -1.13047731e+00 -1.76855347e+00\n",
      " -1.78905616e+00 -2.59802970e+00 -2.15234367e+00 -3.41244584e+00\n",
      " -4.06079141e+00 -2.83260268e+00 -3.14684989e+00 -2.48356172e+00\n",
      " -1.29424847e+00 -3.10891570e+00 -2.18604264e+00 -1.99069221e+00\n",
      " -3.59074380e+00 -1.28255744e+00 -9.88176176e-01 -1.57273628e+00\n",
      " -1.73196172e+00 -5.04878373e-01 -9.71346307e-01 -1.22627212e+00\n",
      " -1.14252764e+00 -7.90490981e-01 -2.81744055e+00 -1.87149780e+00\n",
      " -1.69917864e+00 -1.45005067e+00 -1.69895665e+00 -6.08098741e-01\n",
      " -2.13540711e-02 -1.32218470e+00 -1.92936876e+00 -1.21428597e+00\n",
      " -1.18540171e+00 -1.04064404e+00 -9.51663537e-01 -1.21554313e+00\n",
      " -9.58014717e-01 -1.40461030e+00 -1.34666511e+00 -2.22991775e+00\n",
      " -1.72630627e+00 -1.76114300e+00 -1.72009083e-01 -2.68573528e+00\n",
      " -1.17358269e+00 -2.13881775e+00 -8.14689992e-01 -8.27375483e-01\n",
      " -1.52759832e+00 -1.00511429e+00 -8.73680803e-01 -5.22563734e-01\n",
      " -1.62362596e-01 -1.91790877e+00 -1.13032584e-01 -2.42636297e-01\n",
      " -1.12284703e+00 -1.42596555e+00 -2.51758856e+00 -1.82221482e+00\n",
      " -1.95643722e+00 -2.36295039e+00 -2.30701390e+00 -2.47716764e+00\n",
      " -3.56780526e+00 -2.76238129e+00 -1.63365642e+00 -4.77483373e+00\n",
      " -1.50035368e+00 -1.03652422e+00 -2.22079260e+00 -8.36175187e-01\n",
      " -1.05450721e+00 -2.33517317e+00 -7.90875686e-01 -1.74909965e+00\n",
      " -2.19649361e+00 -7.91672602e-01 -1.24403061e+00 -1.35530688e+00\n",
      " -1.20593482e+00 -1.37635151e+00 -2.77691450e+00 -3.12209171e+00\n",
      " -2.28190986e+00 -1.53271508e+00 -2.34518325e+00 -1.55912060e+00\n",
      " -2.29985560e+00 -1.78857858e+00 -1.18935097e+01 -3.78375150e+00\n",
      " -2.53794741e-01 -1.35070648e+00 -2.65146978e-01 -1.43682265e+00\n",
      " -2.56065057e-01 -1.13856606e+00 -6.33170240e+00 -7.88613003e-01\n",
      " -8.95969053e-01 -7.69540550e-01 -2.42957634e+00 -1.68357792e+00\n",
      " -1.68292097e+00 -1.19599306e+00]\n",
      "Features Max value after Scale : \n",
      " [ 4.72873697  4.83820102  4.28958013  6.13510075 33.10871664  5.13280009\n",
      "  1.06916277  2.99244638  5.73969256  6.04347015  1.89791704 25.19416276\n",
      "  3.91467454 34.66261718 45.63436799  1.30040413  4.17166613  2.99121216\n",
      "  3.19812138  7.08755736  2.7531048   4.59015691  5.61434188  0.90716749\n",
      "  0.52449602  0.7621926   2.81252523  3.05326312  3.31160479  2.3915369\n",
      "  9.69868772  9.2787034   8.81393529 13.51805828  0.7039176   3.65389804\n",
      "  3.02504786  9.82053307  0.89498696 16.91261814  3.8314489   6.66575761\n",
      "  5.30199408  5.11226594  1.90937724  5.60810693  4.68497676  1.75796105\n",
      "  3.67060169  3.09469988  3.09573631  1.40550537  2.78786979  3.23864607\n",
      " 17.37081209  3.53246401  3.50941908 21.23973992 26.1438468   4.92753118\n",
      " 12.41625858  6.02232731 32.78240898  5.38144859 11.66238503  4.10672912\n",
      " 46.8294779   9.83783185  3.5079048   4.79763611  5.89251545  4.24533211\n",
      "  2.88985522  3.47417725  4.139161    3.23245496  3.89177961  4.34075128\n",
      "  0.81289608  5.89885562 17.65550117  5.72220438  4.68965188  9.67473029\n",
      "  5.02793141  7.63523644  8.44370738 10.21601627  7.56808525 11.80637906\n",
      "  6.42024657  9.65578056  4.97240483  9.75421402  7.08822861  4.33453562\n",
      "  6.34157623  4.6115753   5.0899348   0.47262097  2.8552229  18.06651059\n",
      "  4.09237654  0.64159404 46.07458196  3.3229032   1.47712992  9.69042051\n",
      "  2.8737647   3.98333953  2.62281602  2.704963    5.42352374  5.15148693\n",
      "  4.72304159  3.13677019  2.73273334  1.95995115 10.95694323  3.03231\n",
      "  2.8632219   9.33711865 17.4101512   3.04945337  4.42679217  5.5166229\n",
      "  5.37749248 33.10736528 32.23775973  7.35229729  9.04572857  8.92039104\n",
      " 10.75155332 42.66261602 46.21959989  4.72262494 24.00546348 46.80988026\n",
      " 24.99441462 39.64811215 15.29894691 31.07292997  5.91161965  5.65125676\n",
      "  6.34515684  5.25979506  4.98472093  4.97594962  5.35922963 11.99030186\n",
      " 11.67992486  9.24117128  3.49941302  3.02541482  7.08321422  3.69219707\n",
      "  3.42524482  3.69190912  3.7307802   2.83757941  5.57093305 10.1960344\n",
      " 15.33916995 12.50266504  7.48851599 31.71903224 42.99729251 39.16890288\n",
      "  7.14887352  9.54587902 27.95950139 27.93161962 18.3649846  26.16310714\n",
      " 25.15188027 25.70684344 40.83475667 32.01938342 25.61990605 34.74155965\n",
      " 46.8294779  32.67891852  3.92784608 46.8294779   8.7967366   9.21621077\n",
      " 19.26327478 22.64819292 15.42674834  9.36837416  8.11373742 14.93214839\n",
      "  4.53066111  8.74960612  7.23075117 15.84521698  4.81645797 19.084879\n",
      "  6.11014933  9.32703924 13.28375005 12.15358009  8.82561079  7.91686418\n",
      " 22.89699591 19.40851996 20.42364556 33.78853426 46.81946522 19.55305455\n",
      "  7.89801292  4.94776744  3.2108397   3.09666819  5.80046651 17.09725501\n",
      "  2.95135064  4.96325725  6.68040782  6.41081812 33.10645483 30.45262693\n",
      "  8.03661779  7.97078671 11.0304218   9.71948908 42.45027333 46.28802697\n",
      "  5.45285268 29.58119582 46.81148891 23.6891258  40.01842867 24.33514049\n",
      " 30.18567687  6.03585069  5.41979441  7.23110821  5.34671393  5.30115467\n",
      "  5.34072933  5.54810193 10.95193612 11.30233909  8.56509442  3.09812329\n",
      "  3.87975034  8.14010502  3.4595958   3.54634083  3.4592328   3.59440547\n",
      "  3.00721911  5.4434417   7.95685126 12.83117436 12.14495     6.08810319\n",
      " 32.27877613 43.09449762 38.6604214   6.12251639 14.40261173 36.82752377\n",
      " 31.12982157 18.88913921 35.32164056 34.75370156 23.55619333 43.15258889\n",
      " 37.23484717 27.12554987 34.87220154 46.8294779  37.23105357  4.51959877\n",
      " 46.8294779  12.43901198  8.8394546  20.9930122  23.37878185 11.40276772\n",
      "  7.91087478  6.0864387  12.43623502  4.10963893  9.20623776  8.95877189\n",
      " 16.72283872  4.29644298 17.94966225  5.49167247 11.49902477  9.94738383\n",
      " 12.18567349 13.33304424 12.60661329  8.5013323  17.33915935 23.05174539\n",
      " 19.42832028 19.83296443 33.83992912 46.82056828 19.20560863  6.90117421\n",
      "  4.90555999  2.75596647  2.89399493  6.09388933 17.24539484  2.89950627\n",
      "  4.54272551  5.54800995  5.62716048 27.14700577 33.34472308  7.18127143\n",
      "  8.43165416  2.60823919  2.3368109  43.1082746  45.70537056  7.21596204\n",
      " 22.00423188 44.91859062 24.60965321 40.89088344 14.97940241 32.763862\n",
      "  6.84683536  6.78190336  7.77026137  3.51653581  7.05006238  7.05878574\n",
      "  7.0493298  12.20892876 20.66579609 16.25639281  3.40602443  2.59753285\n",
      "  6.64668207  3.61184578  3.36330684  3.77349015  3.68365312  2.83406427\n",
      "  5.20546112 10.65707271 14.62241054 13.23968198  7.68503461 30.22749901\n",
      " 41.48091229 38.77802194  8.95511919  9.85230324  3.80905749 29.64892233\n",
      " 18.98568404 21.47332669  7.9486545  15.24842799 17.23308952 34.03593259\n",
      "  9.92705208 35.32833108 46.8294779  29.89629995  4.48196858  2.60654009\n",
      "  4.7511195   4.21383111  4.14437596  2.6623018   3.1348152   2.8025893\n",
      "  3.47374165  5.25899105  9.23590395  7.06232402 16.41329821  4.99895314\n",
      "  9.58738668  5.93269153  2.50292589  2.40516542  9.13767799  2.13701852\n",
      " 13.18009462 22.96896384  8.68053595 19.00318098 34.25594875 46.53080545\n",
      " 20.1262361   7.86146302  4.86404185  3.10263842  3.12109413  5.85462819\n",
      "  3.03027707 12.01930782  8.47098513 12.17022953  8.36476976  4.08359231\n",
      "  2.31028296 10.80271839 13.81513798 15.26048331 10.02062852 13.31075318\n",
      " 15.43011258  7.75394534 14.01993536 15.4439222   6.02117973  3.83955107\n",
      "  8.06429437  3.65337923  6.91357358  5.72448277  5.50705608  6.30383394\n",
      "  5.690028    6.87025401  5.15492289  6.23621136  3.29113321  2.19154573\n",
      "  6.39282157  9.87376945  7.89471247  8.59210055  6.23769253  8.48928919\n",
      "  2.92218137 41.31847951 42.31844827 41.72821532  7.18575307  7.59750638\n",
      "  8.74139512  7.61762743]\n"
     ]
    }
   ],
   "source": [
    "from sklearn.preprocessing import StandardScaler \n",
    "sc= StandardScaler()\n",
    "X_sc = sc.fit_transform(X)\n",
    "X_train_sc = sc.fit_transform(X_train)\n",
    "print('Features Min value before Scale : \\n {}'. format(X_train.min(axis=0)))\n",
    "print('Features Max value before Scale : \\n {}'. format(X_train.max(axis=0)))\n",
    "print('Features Min value after Scale : \\n {}'. format(X_train_sc.min(axis=0)))\n",
    "print('Features Max value after Scale : \\n {}'. format(X_train_sc.max(axis=0)))\n",
    "X_test_sc = sc.transform(X_test)"
   ]
  },
  {
   "cell_type": "markdown",
   "metadata": {},
   "source": [
    "(2) PCA차원축소\n",
    "\n",
    "- 많은 feature로 구성된 다차원 데이터 세트의 차원을 축소해 새로운 차원의 데이터 세트를 생성하는 것\n",
    "-  일반적으로 차원이 증가할수록, 즉 feature가 많아질수록 예측 신뢰도가 떨어지고, 과적합(overfitting)이 발생하고, 개별 feature간의 상관관계가 높을 가능성이 있음"
   ]
  },
  {
   "cell_type": "code",
   "execution_count": 48,
   "metadata": {},
   "outputs": [],
   "source": [
    "from sklearn.decomposition import PCA\n",
    "# Initializing PCA and fitting\n",
    "# Choose minimum number of PCA features that 85% variance is retained to avoid overfitting\n",
    "pca = PCA(0.85)\n",
    "X_sc_pca = pca.fit_transform(X_sc) # StandardScaler에서 학습용 데이터에 적용한 것처럼 fit과 transform 둘 다를 적용해줘야 하네~~??\n",
    "X_sc_pca_pd = pd.DataFrame(data = X_sc_pca)"
   ]
  },
  {
   "cell_type": "code",
   "execution_count": 49,
   "metadata": {
    "scrolled": true
   },
   "outputs": [
    {
     "name": "stdout",
     "output_type": "stream",
     "text": [
      "PCA차원 축소 이전 X_train: (2194, 446)\n",
      "PCA차원 축소 이전 X_test: (732, 446)\n",
      "PCA차원 축소 이후 X_train: (2194, 105)\n",
      "PCA차원 축소 이후 X_test: (732, 105)\n"
     ]
    }
   ],
   "source": [
    "# Transform train and test datasets\n",
    "X_train_pca = pca.transform(X_train_sc)\n",
    "X_test_pca = pca.transform(X_test_sc)\n",
    "\n",
    "print('PCA차원 축소 이전 X_train:', X_train_sc.shape)\n",
    "print('PCA차원 축소 이전 X_test:', X_test_sc.shape)\n",
    "print('PCA차원 축소 이후 X_train:', X_train_pca.shape)\n",
    "print('PCA차원 축소 이후 X_test:', X_test_pca.shape)"
   ]
  },
  {
   "cell_type": "markdown",
   "metadata": {},
   "source": [
    "PCA차원 축소로 Feature가 565개에서 99개로 줄어 차원이 감소 됐음을 확인 할 수 있다."
   ]
  },
  {
   "cell_type": "code",
   "execution_count": 50,
   "metadata": {},
   "outputs": [
    {
     "data": {
      "text/plain": [
       "<matplotlib.collections.PathCollection at 0x1faf8e16c10>"
      ]
     },
     "execution_count": 50,
     "metadata": {},
     "output_type": "execute_result"
    },
    {
     "data": {
      "image/png": "[encoded data removed]",
      "text/plain": [
       "<Figure size 432x288 with 1 Axes>"
      ]
     },
     "metadata": {
      "needs_background": "light"
     },
     "output_type": "display_data"
    }
   ],
   "source": [
    "plt.scatter(X_sc_pca[:,1:-1], X_sc_pca[:,1:-1]) #해석 필요"
   ]
  },
  {
   "cell_type": "code",
   "execution_count": 51,
   "metadata": {},
   "outputs": [
    {
     "data": {
      "image/png": "[encoded data removed]",
      "text/plain": [
       "<Figure size 432x288 with 1 Axes>"
      ]
     },
     "metadata": {
      "needs_background": "light"
     },
     "output_type": "display_data"
    }
   ],
   "source": [
    "plt.boxplot(data['2'])\n",
    "\n",
    "plt.show()"
   ]
  },
  {
   "cell_type": "markdown",
   "metadata": {},
   "source": [
    "## 2. Data Modeling"
   ]
  },
  {
   "cell_type": "markdown",
   "metadata": {},
   "source": [
    "### ✔ 교차검증\n",
    "- 보통은 train set 으로 모델을 훈련, test set으로 모델을 검증한다.고정된 test set을 통해 모델의 성능을 검증하고 수정하는 과정을 반복하면, 결국 내가 만든 모델은 test set 에만 잘 동작하는 모델이 된다.즉, test set에 과적합(overfitting)하게 되므로, 다른 실제 데이터를 가져와 예측을 수행하면 엉망인 결과가 나와버리게 된다.\n",
    "- 교차 검증은 train set을 train set + validation set으로 분리한 뒤, validation set을 사용해 검증하는 방식이다."
   ]
  },
  {
   "cell_type": "markdown",
   "metadata": {},
   "source": [
    "### ✔ L1규제, L2규제\n",
    "- L1 규제 : W의 절댓값에 대해 패널티를 부여 / L1 규제를 적용하면 영향력이 크지 않은 회귀 계수 값을 0으로 변환 ➜ 라쏘 회귀\n",
    "- L2 규제 : W의 제곱에 대한 패널티를 부여하는 방식 ➜ 릿지 회귀"
   ]
  },
  {
   "cell_type": "markdown",
   "metadata": {},
   "source": [
    "### ✔ 릿지 회귀\n",
    "- 주요 생성 파라미터 : alpha(릿지 회귀의 alpha L2 규제 계수)\n",
    "- alpha 값이 커질수록 회귀 계수 값은 작아짐 **BUT** 회귀 계수를 0으로 만들지는 않는다"
   ]
  },
  {
   "cell_type": "markdown",
   "metadata": {},
   "source": [
    "### ✔ 라쏘 회귀\n",
    "- 회귀 계수의 크기를 감소시키는 L2 규제와는 달리, L1 규제는 불필요한 회귀 계수를 급격하게 감소시켜 0으로 만들고 제거함\n",
    "- 주요 생성 파라키터 : alpha(alpha L1 규제 계수)\n",
    "- alpha의 크기가 증가함에 따라 회귀 계수가 0이 되기도 함"
   ]
  },
  {
   "cell_type": "markdown",
   "metadata": {},
   "source": [
    "### ✔ 엘라스틱넷 회귀\n",
    "- L2와 L1 규제를 결합한 회귀\n",
    "- 최소화하는 W를 찾는것이 목표\n",
    "- 휘귀 계수를 0으로 만드는 성향이 강한 라쏘 회귀에 이를 완화하기 위해 L2 규제 추가\n",
    "- 단점 : 시간이 오래 걸림"
   ]
  },
  {
   "cell_type": "markdown",
   "metadata": {},
   "source": [
    "📍 **회귀의 경우 MSE 값이 낮을수록 좋은 회귀 모델이다.** 📍"
   ]
  },
  {
   "cell_type": "markdown",
   "metadata": {},
   "source": [
    "### 2.1 라쏘 회귀"
   ]
  },
  {
   "cell_type": "code",
   "execution_count": 52,
   "metadata": {},
   "outputs": [],
   "source": [
    "#inport libraries\n",
    "from sklearn.model_selection import cross_val_score\n",
    "from sklearn.linear_model import LogisticRegression\n",
    "from sklearn.linear_model import Ridge, Lasso, ElasticNet\n",
    "from sklearn.metrics import mean_squared_error\n",
    "import warnings\n",
    "warnings.filterwarnings(action='ignore')"
   ]
  },
  {
   "cell_type": "code",
   "execution_count": 53,
   "metadata": {},
   "outputs": [
    {
     "name": "stdout",
     "output_type": "stream",
     "text": [
      "Lasso model: [ 0.00264025  0.04296258  0.         -0.01253332 -0.01020766  0.\n",
      " -0.         -0.00400001  0.01764707  0.04113972  0.05081445 -0.03933769\n",
      "  0.0206224  -0.0001097  -0.          0.00337112 -0.          0.\n",
      " -0.00894485  0.         -0.         -0.00041275  0.02758694  0.02803752\n",
      "  0.         -0.00121807 -0.00017724 -0.         -0.01965326  0.\n",
      " -0.          0.         -0.         -0.01950667  0.         -0.\n",
      " -0.01211241 -0.         -0.         -0.          0.00937241  0.\n",
      " -0.         -0.         -0.          0.          0.01752042 -0.\n",
      "  0.          0.         -0.          0.         -0.          0.\n",
      " -0.          0.         -0.          0.          0.          0.\n",
      " -0.          0.01163176  0.         -0.03733603 -0.          0.\n",
      "  0.07886512 -0.         -0.00120202  0.          0.          0.\n",
      " -0.         -0.         -0.          0.00137958  0.         -0.00766898\n",
      " -0.00298857  0.          0.          0.          0.         -0.\n",
      " -0.         -0.         -0.         -0.         -0.          0.\n",
      " -0.         -0.          0.          0.         -0.         -0.\n",
      " -0.         -0.         -0.          0.08487307 -0.          0.\n",
      " -0.04158617  0.          0.        ]\n"
     ]
    }
   ],
   "source": [
    "lasso = Lasso(alpha=0.1, random_state=50)\n",
    "lasso.fit(X_train_pca,y_train)\n",
    "\n",
    "# 회귀 계수 출력\n",
    "print (\"Lasso model:\", (lasso.coef_))"
   ]
  },
  {
   "cell_type": "code",
   "execution_count": 54,
   "metadata": {},
   "outputs": [
    {
     "data": {
      "text/plain": [
       "99     0.1\n",
       "66     0.1\n",
       "10     0.1\n",
       "104    0.0\n",
       "37    -0.0\n",
       "      ... \n",
       "72    -0.0\n",
       "73    -0.0\n",
       "74    -0.0\n",
       "75     0.0\n",
       "0      0.0\n",
       "Length: 105, dtype: float64"
      ]
     },
     "execution_count": 54,
     "metadata": {},
     "output_type": "execute_result"
    }
   ],
   "source": [
    "# 회귀 계수 큰 값 순으로 정렬\n",
    "coef = pd.Series(data=np.round(lasso.coef_,1), index=X_sc_pca_pd.columns)\n",
    "coef.sort_values(ascending=False)"
   ]
  },
  {
   "cell_type": "markdown",
   "metadata": {},
   "source": [
    "✅ **회귀 계수**\n",
    "- 독립변수의 변화가 종속변수를 얼마나 변화시키는가?\n",
    "- y=wx+b 식에서 w에 해당하는 값\n",
    "- 회귀 계수가 클수록 종속변수에 미치는 영향, 관계의 정도가 커짐"
   ]
  },
  {
   "cell_type": "code",
   "execution_count": 55,
   "metadata": {},
   "outputs": [],
   "source": [
    "y_pred = lasso.predict(X_test_pca)\n",
    "\n",
    "#Convert the sign of the predicted values as the classifier\n",
    "y_pred2 = np.sign(y_pred)"
   ]
  },
  {
   "cell_type": "code",
   "execution_count": 56,
   "metadata": {},
   "outputs": [
    {
     "name": "stdout",
     "output_type": "stream",
     "text": [
      "Accuracy :  22.075816964418582\n"
     ]
    }
   ],
   "source": [
    "print(\"Accuracy : \", lasso.score(X_test_pca,y_test)*100)"
   ]
  },
  {
   "cell_type": "code",
   "execution_count": 57,
   "metadata": {},
   "outputs": [
    {
     "name": "stdout",
     "output_type": "stream",
     "text": [
      "RMSE :  1.0108698845535304\n"
     ]
    }
   ],
   "source": [
    "mse = mean_squared_error(y_test, y_pred2)\n",
    "rmse = np.sqrt(mse)\n",
    "\n",
    "print(\"RMSE : \", rmse)"
   ]
  },
  {
   "cell_type": "code",
   "execution_count": 58,
   "metadata": {},
   "outputs": [],
   "source": [
    "neg_mse_scores = cross_val_score(lasso, X_test_pca, y_test, scoring='neg_mean_squared_error', cv=5)\n",
    "rmse_scores = np.sqrt(-1*neg_mse_scores)\n",
    "avg_rmse = np.mean(rmse_scores)"
   ]
  },
  {
   "cell_type": "code",
   "execution_count": 59,
   "metadata": {},
   "outputs": [
    {
     "name": "stdout",
     "output_type": "stream",
     "text": [
      "5 folds의 개별 Negative MSE scores :  [-0.83 -0.81 -0.91 -0.83 -0.73]\n",
      "5 folds의 개별 RMSE scores :  [0.91 0.9  0.95 0.91 0.86]\n",
      "5 folds의 평균 RMSE : 0.906\n"
     ]
    }
   ],
   "source": [
    "print('5 folds의 개별 Negative MSE scores : ', np.round(neg_mse_scores,2))\n",
    "print('5 folds의 개별 RMSE scores : ', np.round(rmse_scores,2))\n",
    "print('5 folds의 평균 RMSE : {0:.3f}'.format(avg_rmse))"
   ]
  },
  {
   "cell_type": "markdown",
   "metadata": {},
   "source": [
    "### 2.2 릿지 회귀"
   ]
  },
  {
   "cell_type": "code",
   "execution_count": 60,
   "metadata": {},
   "outputs": [
    {
     "name": "stdout",
     "output_type": "stream",
     "text": [
      "Lasso model: [ 0.00770722  0.04816534 -0.00225227 -0.01465522 -0.01912005  0.01031173\n",
      " -0.00428947 -0.01324531  0.03080844  0.04488454  0.05099245 -0.03999152\n",
      "  0.03286733 -0.01052145  0.00148407  0.01574091 -0.0147568   0.01867148\n",
      " -0.03109854 -0.00761615  0.00121756 -0.01687491  0.03906681  0.046176\n",
      "  0.0005009  -0.02495025 -0.02448257 -0.02309689 -0.03260212 -0.00607596\n",
      " -0.01938236  0.0214692  -0.01099014 -0.04776568  0.02044727 -0.00441214\n",
      " -0.0479289  -0.01322368 -0.00797429 -0.00521701  0.0395016   0.02009933\n",
      " -0.01456009 -0.00709643  0.00208346 -0.00320618  0.04861479 -0.0288786\n",
      "  0.03469059 -0.00579561 -0.01148691  0.01550849 -0.01464196  0.02200936\n",
      " -0.00177196  0.02409477 -0.0317117   0.03165237  0.02230968  0.02105308\n",
      " -0.01946198  0.04374281  0.01274699 -0.06466315 -0.01153319  0.0045052\n",
      "  0.10593602 -0.02724919 -0.04216394  0.01689974  0.04260261  0.02597761\n",
      " -0.00195623 -0.02445597 -0.03342841  0.05108113  0.0277786  -0.05844335\n",
      " -0.04433549  0.03183195  0.01358517  0.00543191 -0.01422759 -0.04113368\n",
      " -0.02367182  0.007346   -0.05896964 -0.03505647 -0.02624057  0.04783927\n",
      " -0.05408059 -0.02396986 -0.00439511  0.05237684 -0.04922351 -0.01807751\n",
      " -0.02552123 -0.02684475 -0.03874703  0.138493   -0.04671353  0.06808596\n",
      " -0.11416017  0.02884853  0.03842424]\n"
     ]
    }
   ],
   "source": [
    "ridge = Ridge(alpha=0.1, random_state=50)\n",
    "ridge.fit(X_train_pca,y_train)\n",
    "\n",
    "# 회귀 계수 출력\n",
    "print (\"Lasso model:\", (ridge.coef_))"
   ]
  },
  {
   "cell_type": "code",
   "execution_count": 61,
   "metadata": {},
   "outputs": [
    {
     "data": {
      "text/plain": [
       "75     0.1\n",
       "101    0.1\n",
       "10     0.1\n",
       "99     0.1\n",
       "66     0.1\n",
       "      ... \n",
       "86    -0.1\n",
       "63    -0.1\n",
       "90    -0.1\n",
       "77    -0.1\n",
       "102   -0.1\n",
       "Length: 105, dtype: float64"
      ]
     },
     "execution_count": 61,
     "metadata": {},
     "output_type": "execute_result"
    }
   ],
   "source": [
    "# 회귀 계수 큰 값 순으로 정렬\n",
    "coef = pd.Series(data=np.round(ridge.coef_,1), index=X_sc_pca_pd.columns)\n",
    "coef.sort_values(ascending=False)"
   ]
  },
  {
   "cell_type": "code",
   "execution_count": 62,
   "metadata": {},
   "outputs": [],
   "source": [
    "y_pred = ridge.predict(X_test_pca)\n",
    "\n",
    "#Convert the sign of the predicted values as the classifier\n",
    "y_pred2 = np.sign(y_pred)"
   ]
  },
  {
   "cell_type": "code",
   "execution_count": 63,
   "metadata": {},
   "outputs": [
    {
     "name": "stdout",
     "output_type": "stream",
     "text": [
      "Accuracy :  31.374180435658026\n"
     ]
    }
   ],
   "source": [
    "print(\"Accuracy : \", ridge.score(X_test_pca,y_test)*100)"
   ]
  },
  {
   "cell_type": "code",
   "execution_count": 64,
   "metadata": {},
   "outputs": [
    {
     "name": "stdout",
     "output_type": "stream",
     "text": [
      "RMSE :  0.943774540085534\n"
     ]
    }
   ],
   "source": [
    "mse = mean_squared_error(y_test, y_pred2)\n",
    "rmse = np.sqrt(mse)\n",
    "\n",
    "print(\"RMSE : \", rmse)"
   ]
  },
  {
   "cell_type": "code",
   "execution_count": 65,
   "metadata": {},
   "outputs": [],
   "source": [
    "neg_mse_scores = cross_val_score(ridge, X_test_pca, y_test, scoring='neg_mean_squared_error', cv=5)\n",
    "rmse_scores = np.sqrt(-1*neg_mse_scores)\n",
    "avg_rmse = np.mean(rmse_scores)"
   ]
  },
  {
   "cell_type": "code",
   "execution_count": 66,
   "metadata": {},
   "outputs": [
    {
     "name": "stdout",
     "output_type": "stream",
     "text": [
      "5 folds의 개별 Negative MSE scores :  [-0.84 -1.08 -1.95 -0.82 -0.72]\n",
      "5 folds의 개별 RMSE scores :  [0.92 1.04 1.4  0.91 0.85]\n",
      "5 folds의 평균 RMSE : 1.022\n"
     ]
    }
   ],
   "source": [
    "print('5 folds의 개별 Negative MSE scores : ', np.round(neg_mse_scores,2))\n",
    "print('5 folds의 개별 RMSE scores : ', np.round(rmse_scores,2))\n",
    "print('5 folds의 평균 RMSE : {0:.3f}'.format(avg_rmse))"
   ]
  },
  {
   "cell_type": "markdown",
   "metadata": {},
   "source": [
    "### 2.3 엘라스틱넷 회귀"
   ]
  },
  {
   "cell_type": "code",
   "execution_count": 67,
   "metadata": {},
   "outputs": [
    {
     "data": {
      "text/plain": [
       "ElasticNet(alpha=0.1, random_state=50)"
      ]
     },
     "execution_count": 67,
     "metadata": {},
     "output_type": "execute_result"
    }
   ],
   "source": [
    "elasticnet = ElasticNet(alpha=0.1, random_state=50)\n",
    "elasticnet.fit(X_train_pca,y_train)"
   ]
  },
  {
   "cell_type": "code",
   "execution_count": 68,
   "metadata": {},
   "outputs": [],
   "source": [
    "y_pred = elasticnet.predict(X_test_pca)\n",
    "\n",
    "#Convert the sign of the predicted values as the classifier\n",
    "y_pred2 = np.sign(y_pred)"
   ]
  },
  {
   "cell_type": "code",
   "execution_count": 69,
   "metadata": {},
   "outputs": [
    {
     "name": "stdout",
     "output_type": "stream",
     "text": [
      "RMSE :  0.9609876522409447\n"
     ]
    }
   ],
   "source": [
    "mse = mean_squared_error(y_test, y_pred2)\n",
    "rmse = np.sqrt(mse)\n",
    "\n",
    "print(\"RMSE : \", rmse)"
   ]
  },
  {
   "cell_type": "code",
   "execution_count": 70,
   "metadata": {},
   "outputs": [],
   "source": [
    "neg_mse_scores = cross_val_score(elasticnet, X_test_pca, y_test, scoring='neg_mean_squared_error', cv=5)\n",
    "rmse_scores = np.sqrt(-1*neg_mse_scores)\n",
    "avg_rmse = np.mean(rmse_scores)"
   ]
  },
  {
   "cell_type": "code",
   "execution_count": 71,
   "metadata": {},
   "outputs": [
    {
     "name": "stdout",
     "output_type": "stream",
     "text": [
      "5 folds의 개별 Negative MSE scores :  [-0.79 -0.75 -0.81 -0.78 -0.64]\n",
      "5 folds의 개별 RMSE scores :  [0.89 0.87 0.9  0.88 0.8 ]\n",
      "5 folds의 평균 RMSE : 0.867\n"
     ]
    }
   ],
   "source": [
    "print('5 folds의 개별 Negative MSE scores : ', np.round(neg_mse_scores,2))\n",
    "print('5 folds의 개별 RMSE scores : ', np.round(rmse_scores,2))\n",
    "print('5 folds의 평균 RMSE : {0:.3f}'.format(avg_rmse))"
   ]
  },
  {
   "cell_type": "markdown",
   "metadata": {},
   "source": [
    "📍 **엘라스틱넷 회귀 모델의 RMSE 값이 가장 낮음 ➜ 3개의 회귀 모델 중 가장 좋은 모델** 📍"
   ]
  },
  {
   "cell_type": "markdown",
   "metadata": {},
   "source": [
    "### 📌결론 : 전처리 방법1(결측값이 900개가 넘는 칼럼은 삭제 후 나머지 값들은 0으로 대체)이 더 좋은 성능을 가진다."
   ]
  },
  {
   "cell_type": "code",
   "execution_count": null,
   "metadata": {},
   "outputs": [],
   "source": []
  }
 ],
 "metadata": {
  "kernelspec": {
   "display_name": "Python 3",
   "language": "python",
   "name": "python3"
  },
  "language_info": {
   "codemirror_mode": {
    "name": "ipython",
    "version": 3
   },
   "file_extension": ".py",
   "mimetype": "text/x-python",
   "name": "python",
   "nbconvert_exporter": "python",
   "pygments_lexer": "ipython3",
   "version": "3.8.5"
  }
 },
 "nbformat": 4,
 "nbformat_minor": 4
}
