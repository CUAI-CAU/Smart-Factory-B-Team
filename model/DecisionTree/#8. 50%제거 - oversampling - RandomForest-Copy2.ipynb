{
 "cells": [
  {
   "cell_type": "markdown",
   "metadata": {},
   "source": [
    "## UCI SECOM(RandomForest)-2\n",
    "#### Data preprocessing method: 결측값50%넘는 열 삭제후 남은 결측값은 fillna함수의 method='ffill'&'bfill'을 이용해 채운다. 이후 고유치 개수가 1인 열을 제거한다. "
   ]
  },
  {
   "cell_type": "code",
   "execution_count": 1,
   "metadata": {},
   "outputs": [],
   "source": [
    "#Import Libraries\n",
    "import numpy as np\n",
    "import pandas as pd\n",
    "import matplotlib.pyplot as plt\n",
    "import seaborn as sns\n",
    "import plotly.express as px\n",
    "%matplotlib inline"
   ]
  },
  {
   "cell_type": "code",
   "execution_count": 2,
   "metadata": {},
   "outputs": [],
   "source": [
    "# Read the data\n",
    "data = pd.read_csv('uci-secom.csv')"
   ]
  },
  {
   "cell_type": "code",
   "execution_count": 3,
   "metadata": {},
   "outputs": [
    {
     "name": "stdout",
     "output_type": "stream",
     "text": [
      "(1567, 592)\n"
     ]
    },
    {
     "data": {
      "text/html": [
       "<div>\n",
       "<style scoped>\n",
       "    .dataframe tbody tr th:only-of-type {\n",
       "        vertical-align: middle;\n",
       "    }\n",
       "\n",
       "    .dataframe tbody tr th {\n",
       "        vertical-align: top;\n",
       "    }\n",
       "\n",
       "    .dataframe thead th {\n",
       "        text-align: right;\n",
       "    }\n",
       "</style>\n",
       "<table border=\"1\" class=\"dataframe\">\n",
       "  <thead>\n",
       "    <tr style=\"text-align: right;\">\n",
       "      <th></th>\n",
       "      <th>Time</th>\n",
       "      <th>0</th>\n",
       "      <th>1</th>\n",
       "      <th>2</th>\n",
       "      <th>3</th>\n",
       "      <th>4</th>\n",
       "      <th>5</th>\n",
       "      <th>6</th>\n",
       "      <th>7</th>\n",
       "      <th>8</th>\n",
       "      <th>...</th>\n",
       "      <th>581</th>\n",
       "      <th>582</th>\n",
       "      <th>583</th>\n",
       "      <th>584</th>\n",
       "      <th>585</th>\n",
       "      <th>586</th>\n",
       "      <th>587</th>\n",
       "      <th>588</th>\n",
       "      <th>589</th>\n",
       "      <th>Pass/Fail</th>\n",
       "    </tr>\n",
       "  </thead>\n",
       "  <tbody>\n",
       "    <tr>\n",
       "      <th>0</th>\n",
       "      <td>2008-07-19 11:55:00</td>\n",
       "      <td>3030.93</td>\n",
       "      <td>2564.00</td>\n",
       "      <td>2187.7333</td>\n",
       "      <td>1411.1265</td>\n",
       "      <td>1.3602</td>\n",
       "      <td>100.0</td>\n",
       "      <td>97.6133</td>\n",
       "      <td>0.1242</td>\n",
       "      <td>1.5005</td>\n",
       "      <td>...</td>\n",
       "      <td>NaN</td>\n",
       "      <td>0.5005</td>\n",
       "      <td>0.0118</td>\n",
       "      <td>0.0035</td>\n",
       "      <td>2.3630</td>\n",
       "      <td>NaN</td>\n",
       "      <td>NaN</td>\n",
       "      <td>NaN</td>\n",
       "      <td>NaN</td>\n",
       "      <td>-1</td>\n",
       "    </tr>\n",
       "    <tr>\n",
       "      <th>1</th>\n",
       "      <td>2008-07-19 12:32:00</td>\n",
       "      <td>3095.78</td>\n",
       "      <td>2465.14</td>\n",
       "      <td>2230.4222</td>\n",
       "      <td>1463.6606</td>\n",
       "      <td>0.8294</td>\n",
       "      <td>100.0</td>\n",
       "      <td>102.3433</td>\n",
       "      <td>0.1247</td>\n",
       "      <td>1.4966</td>\n",
       "      <td>...</td>\n",
       "      <td>208.2045</td>\n",
       "      <td>0.5019</td>\n",
       "      <td>0.0223</td>\n",
       "      <td>0.0055</td>\n",
       "      <td>4.4447</td>\n",
       "      <td>0.0096</td>\n",
       "      <td>0.0201</td>\n",
       "      <td>0.0060</td>\n",
       "      <td>208.2045</td>\n",
       "      <td>-1</td>\n",
       "    </tr>\n",
       "    <tr>\n",
       "      <th>2</th>\n",
       "      <td>2008-07-19 13:17:00</td>\n",
       "      <td>2932.61</td>\n",
       "      <td>2559.94</td>\n",
       "      <td>2186.4111</td>\n",
       "      <td>1698.0172</td>\n",
       "      <td>1.5102</td>\n",
       "      <td>100.0</td>\n",
       "      <td>95.4878</td>\n",
       "      <td>0.1241</td>\n",
       "      <td>1.4436</td>\n",
       "      <td>...</td>\n",
       "      <td>82.8602</td>\n",
       "      <td>0.4958</td>\n",
       "      <td>0.0157</td>\n",
       "      <td>0.0039</td>\n",
       "      <td>3.1745</td>\n",
       "      <td>0.0584</td>\n",
       "      <td>0.0484</td>\n",
       "      <td>0.0148</td>\n",
       "      <td>82.8602</td>\n",
       "      <td>1</td>\n",
       "    </tr>\n",
       "    <tr>\n",
       "      <th>3</th>\n",
       "      <td>2008-07-19 14:43:00</td>\n",
       "      <td>2988.72</td>\n",
       "      <td>2479.90</td>\n",
       "      <td>2199.0333</td>\n",
       "      <td>909.7926</td>\n",
       "      <td>1.3204</td>\n",
       "      <td>100.0</td>\n",
       "      <td>104.2367</td>\n",
       "      <td>0.1217</td>\n",
       "      <td>1.4882</td>\n",
       "      <td>...</td>\n",
       "      <td>73.8432</td>\n",
       "      <td>0.4990</td>\n",
       "      <td>0.0103</td>\n",
       "      <td>0.0025</td>\n",
       "      <td>2.0544</td>\n",
       "      <td>0.0202</td>\n",
       "      <td>0.0149</td>\n",
       "      <td>0.0044</td>\n",
       "      <td>73.8432</td>\n",
       "      <td>-1</td>\n",
       "    </tr>\n",
       "    <tr>\n",
       "      <th>4</th>\n",
       "      <td>2008-07-19 15:22:00</td>\n",
       "      <td>3032.24</td>\n",
       "      <td>2502.87</td>\n",
       "      <td>2233.3667</td>\n",
       "      <td>1326.5200</td>\n",
       "      <td>1.5334</td>\n",
       "      <td>100.0</td>\n",
       "      <td>100.3967</td>\n",
       "      <td>0.1235</td>\n",
       "      <td>1.5031</td>\n",
       "      <td>...</td>\n",
       "      <td>NaN</td>\n",
       "      <td>0.4800</td>\n",
       "      <td>0.4766</td>\n",
       "      <td>0.1045</td>\n",
       "      <td>99.3032</td>\n",
       "      <td>0.0202</td>\n",
       "      <td>0.0149</td>\n",
       "      <td>0.0044</td>\n",
       "      <td>73.8432</td>\n",
       "      <td>-1</td>\n",
       "    </tr>\n",
       "  </tbody>\n",
       "</table>\n",
       "<p>5 rows × 592 columns</p>\n",
       "</div>"
      ],
      "text/plain": [
       "                  Time        0        1          2          3       4      5  \\\n",
       "0  2008-07-19 11:55:00  3030.93  2564.00  2187.7333  1411.1265  1.3602  100.0   \n",
       "1  2008-07-19 12:32:00  3095.78  2465.14  2230.4222  1463.6606  0.8294  100.0   \n",
       "2  2008-07-19 13:17:00  2932.61  2559.94  2186.4111  1698.0172  1.5102  100.0   \n",
       "3  2008-07-19 14:43:00  2988.72  2479.90  2199.0333   909.7926  1.3204  100.0   \n",
       "4  2008-07-19 15:22:00  3032.24  2502.87  2233.3667  1326.5200  1.5334  100.0   \n",
       "\n",
       "          6       7       8  ...       581     582     583     584      585  \\\n",
       "0   97.6133  0.1242  1.5005  ...       NaN  0.5005  0.0118  0.0035   2.3630   \n",
       "1  102.3433  0.1247  1.4966  ...  208.2045  0.5019  0.0223  0.0055   4.4447   \n",
       "2   95.4878  0.1241  1.4436  ...   82.8602  0.4958  0.0157  0.0039   3.1745   \n",
       "3  104.2367  0.1217  1.4882  ...   73.8432  0.4990  0.0103  0.0025   2.0544   \n",
       "4  100.3967  0.1235  1.5031  ...       NaN  0.4800  0.4766  0.1045  99.3032   \n",
       "\n",
       "      586     587     588       589  Pass/Fail  \n",
       "0     NaN     NaN     NaN       NaN         -1  \n",
       "1  0.0096  0.0201  0.0060  208.2045         -1  \n",
       "2  0.0584  0.0484  0.0148   82.8602          1  \n",
       "3  0.0202  0.0149  0.0044   73.8432         -1  \n",
       "4  0.0202  0.0149  0.0044   73.8432         -1  \n",
       "\n",
       "[5 rows x 592 columns]"
      ]
     },
     "execution_count": 3,
     "metadata": {},
     "output_type": "execute_result"
    }
   ],
   "source": [
    "# Data shape 및 상위 5개 열 보기\n",
    "print(data.shape)\n",
    "data.head()"
   ]
  },
  {
   "cell_type": "code",
   "execution_count": 4,
   "metadata": {},
   "outputs": [
    {
     "data": {
      "text/html": [
       "<div>\n",
       "<style scoped>\n",
       "    .dataframe tbody tr th:only-of-type {\n",
       "        vertical-align: middle;\n",
       "    }\n",
       "\n",
       "    .dataframe tbody tr th {\n",
       "        vertical-align: top;\n",
       "    }\n",
       "\n",
       "    .dataframe thead th {\n",
       "        text-align: right;\n",
       "    }\n",
       "</style>\n",
       "<table border=\"1\" class=\"dataframe\">\n",
       "  <thead>\n",
       "    <tr style=\"text-align: right;\">\n",
       "      <th></th>\n",
       "      <th>Time</th>\n",
       "      <th>0</th>\n",
       "      <th>1</th>\n",
       "      <th>2</th>\n",
       "      <th>3</th>\n",
       "      <th>4</th>\n",
       "      <th>5</th>\n",
       "      <th>6</th>\n",
       "      <th>7</th>\n",
       "      <th>8</th>\n",
       "      <th>...</th>\n",
       "      <th>581</th>\n",
       "      <th>582</th>\n",
       "      <th>583</th>\n",
       "      <th>584</th>\n",
       "      <th>585</th>\n",
       "      <th>586</th>\n",
       "      <th>587</th>\n",
       "      <th>588</th>\n",
       "      <th>589</th>\n",
       "      <th>Pass/Fail</th>\n",
       "    </tr>\n",
       "  </thead>\n",
       "  <tbody>\n",
       "    <tr>\n",
       "      <th>count</th>\n",
       "      <td>1567</td>\n",
       "      <td>1561.000000</td>\n",
       "      <td>1560.000000</td>\n",
       "      <td>1553.000000</td>\n",
       "      <td>1553.000000</td>\n",
       "      <td>1553.000000</td>\n",
       "      <td>1553.0</td>\n",
       "      <td>1553.000000</td>\n",
       "      <td>1558.000000</td>\n",
       "      <td>1565.000000</td>\n",
       "      <td>...</td>\n",
       "      <td>618.000000</td>\n",
       "      <td>1566.000000</td>\n",
       "      <td>1566.000000</td>\n",
       "      <td>1566.000000</td>\n",
       "      <td>1566.000000</td>\n",
       "      <td>1566.000000</td>\n",
       "      <td>1566.000000</td>\n",
       "      <td>1566.000000</td>\n",
       "      <td>1566.000000</td>\n",
       "      <td>1567.000000</td>\n",
       "    </tr>\n",
       "    <tr>\n",
       "      <th>unique</th>\n",
       "      <td>1534</td>\n",
       "      <td>NaN</td>\n",
       "      <td>NaN</td>\n",
       "      <td>NaN</td>\n",
       "      <td>NaN</td>\n",
       "      <td>NaN</td>\n",
       "      <td>NaN</td>\n",
       "      <td>NaN</td>\n",
       "      <td>NaN</td>\n",
       "      <td>NaN</td>\n",
       "      <td>...</td>\n",
       "      <td>NaN</td>\n",
       "      <td>NaN</td>\n",
       "      <td>NaN</td>\n",
       "      <td>NaN</td>\n",
       "      <td>NaN</td>\n",
       "      <td>NaN</td>\n",
       "      <td>NaN</td>\n",
       "      <td>NaN</td>\n",
       "      <td>NaN</td>\n",
       "      <td>NaN</td>\n",
       "    </tr>\n",
       "    <tr>\n",
       "      <th>top</th>\n",
       "      <td>2008-10-15 01:52:00</td>\n",
       "      <td>NaN</td>\n",
       "      <td>NaN</td>\n",
       "      <td>NaN</td>\n",
       "      <td>NaN</td>\n",
       "      <td>NaN</td>\n",
       "      <td>NaN</td>\n",
       "      <td>NaN</td>\n",
       "      <td>NaN</td>\n",
       "      <td>NaN</td>\n",
       "      <td>...</td>\n",
       "      <td>NaN</td>\n",
       "      <td>NaN</td>\n",
       "      <td>NaN</td>\n",
       "      <td>NaN</td>\n",
       "      <td>NaN</td>\n",
       "      <td>NaN</td>\n",
       "      <td>NaN</td>\n",
       "      <td>NaN</td>\n",
       "      <td>NaN</td>\n",
       "      <td>NaN</td>\n",
       "    </tr>\n",
       "    <tr>\n",
       "      <th>freq</th>\n",
       "      <td>3</td>\n",
       "      <td>NaN</td>\n",
       "      <td>NaN</td>\n",
       "      <td>NaN</td>\n",
       "      <td>NaN</td>\n",
       "      <td>NaN</td>\n",
       "      <td>NaN</td>\n",
       "      <td>NaN</td>\n",
       "      <td>NaN</td>\n",
       "      <td>NaN</td>\n",
       "      <td>...</td>\n",
       "      <td>NaN</td>\n",
       "      <td>NaN</td>\n",
       "      <td>NaN</td>\n",
       "      <td>NaN</td>\n",
       "      <td>NaN</td>\n",
       "      <td>NaN</td>\n",
       "      <td>NaN</td>\n",
       "      <td>NaN</td>\n",
       "      <td>NaN</td>\n",
       "      <td>NaN</td>\n",
       "    </tr>\n",
       "    <tr>\n",
       "      <th>mean</th>\n",
       "      <td>NaN</td>\n",
       "      <td>3014.452896</td>\n",
       "      <td>2495.850231</td>\n",
       "      <td>2200.547318</td>\n",
       "      <td>1396.376627</td>\n",
       "      <td>4.197013</td>\n",
       "      <td>100.0</td>\n",
       "      <td>101.112908</td>\n",
       "      <td>0.121822</td>\n",
       "      <td>1.462862</td>\n",
       "      <td>...</td>\n",
       "      <td>97.934373</td>\n",
       "      <td>0.500096</td>\n",
       "      <td>0.015318</td>\n",
       "      <td>0.003847</td>\n",
       "      <td>3.067826</td>\n",
       "      <td>0.021458</td>\n",
       "      <td>0.016475</td>\n",
       "      <td>0.005283</td>\n",
       "      <td>99.670066</td>\n",
       "      <td>-0.867262</td>\n",
       "    </tr>\n",
       "    <tr>\n",
       "      <th>std</th>\n",
       "      <td>NaN</td>\n",
       "      <td>73.621787</td>\n",
       "      <td>80.407705</td>\n",
       "      <td>29.513152</td>\n",
       "      <td>441.691640</td>\n",
       "      <td>56.355540</td>\n",
       "      <td>0.0</td>\n",
       "      <td>6.237214</td>\n",
       "      <td>0.008961</td>\n",
       "      <td>0.073897</td>\n",
       "      <td>...</td>\n",
       "      <td>87.520966</td>\n",
       "      <td>0.003404</td>\n",
       "      <td>0.017180</td>\n",
       "      <td>0.003720</td>\n",
       "      <td>3.578033</td>\n",
       "      <td>0.012358</td>\n",
       "      <td>0.008808</td>\n",
       "      <td>0.002867</td>\n",
       "      <td>93.891919</td>\n",
       "      <td>0.498010</td>\n",
       "    </tr>\n",
       "    <tr>\n",
       "      <th>min</th>\n",
       "      <td>NaN</td>\n",
       "      <td>2743.240000</td>\n",
       "      <td>2158.750000</td>\n",
       "      <td>2060.660000</td>\n",
       "      <td>0.000000</td>\n",
       "      <td>0.681500</td>\n",
       "      <td>100.0</td>\n",
       "      <td>82.131100</td>\n",
       "      <td>0.000000</td>\n",
       "      <td>1.191000</td>\n",
       "      <td>...</td>\n",
       "      <td>0.000000</td>\n",
       "      <td>0.477800</td>\n",
       "      <td>0.006000</td>\n",
       "      <td>0.001700</td>\n",
       "      <td>1.197500</td>\n",
       "      <td>-0.016900</td>\n",
       "      <td>0.003200</td>\n",
       "      <td>0.001000</td>\n",
       "      <td>0.000000</td>\n",
       "      <td>-1.000000</td>\n",
       "    </tr>\n",
       "    <tr>\n",
       "      <th>25%</th>\n",
       "      <td>NaN</td>\n",
       "      <td>2966.260000</td>\n",
       "      <td>2452.247500</td>\n",
       "      <td>2181.044400</td>\n",
       "      <td>1081.875800</td>\n",
       "      <td>1.017700</td>\n",
       "      <td>100.0</td>\n",
       "      <td>97.920000</td>\n",
       "      <td>0.121100</td>\n",
       "      <td>1.411200</td>\n",
       "      <td>...</td>\n",
       "      <td>46.184900</td>\n",
       "      <td>0.497900</td>\n",
       "      <td>0.011600</td>\n",
       "      <td>0.003100</td>\n",
       "      <td>2.306500</td>\n",
       "      <td>0.013425</td>\n",
       "      <td>0.010600</td>\n",
       "      <td>0.003300</td>\n",
       "      <td>44.368600</td>\n",
       "      <td>-1.000000</td>\n",
       "    </tr>\n",
       "    <tr>\n",
       "      <th>50%</th>\n",
       "      <td>NaN</td>\n",
       "      <td>3011.490000</td>\n",
       "      <td>2499.405000</td>\n",
       "      <td>2201.066700</td>\n",
       "      <td>1285.214400</td>\n",
       "      <td>1.316800</td>\n",
       "      <td>100.0</td>\n",
       "      <td>101.512200</td>\n",
       "      <td>0.122400</td>\n",
       "      <td>1.461600</td>\n",
       "      <td>...</td>\n",
       "      <td>72.288900</td>\n",
       "      <td>0.500200</td>\n",
       "      <td>0.013800</td>\n",
       "      <td>0.003600</td>\n",
       "      <td>2.757650</td>\n",
       "      <td>0.020500</td>\n",
       "      <td>0.014800</td>\n",
       "      <td>0.004600</td>\n",
       "      <td>71.900500</td>\n",
       "      <td>-1.000000</td>\n",
       "    </tr>\n",
       "    <tr>\n",
       "      <th>75%</th>\n",
       "      <td>NaN</td>\n",
       "      <td>3056.650000</td>\n",
       "      <td>2538.822500</td>\n",
       "      <td>2218.055500</td>\n",
       "      <td>1591.223500</td>\n",
       "      <td>1.525700</td>\n",
       "      <td>100.0</td>\n",
       "      <td>104.586700</td>\n",
       "      <td>0.123800</td>\n",
       "      <td>1.516900</td>\n",
       "      <td>...</td>\n",
       "      <td>116.539150</td>\n",
       "      <td>0.502375</td>\n",
       "      <td>0.016500</td>\n",
       "      <td>0.004100</td>\n",
       "      <td>3.295175</td>\n",
       "      <td>0.027600</td>\n",
       "      <td>0.020300</td>\n",
       "      <td>0.006400</td>\n",
       "      <td>114.749700</td>\n",
       "      <td>-1.000000</td>\n",
       "    </tr>\n",
       "    <tr>\n",
       "      <th>max</th>\n",
       "      <td>NaN</td>\n",
       "      <td>3356.350000</td>\n",
       "      <td>2846.440000</td>\n",
       "      <td>2315.266700</td>\n",
       "      <td>3715.041700</td>\n",
       "      <td>1114.536600</td>\n",
       "      <td>100.0</td>\n",
       "      <td>129.252200</td>\n",
       "      <td>0.128600</td>\n",
       "      <td>1.656400</td>\n",
       "      <td>...</td>\n",
       "      <td>737.304800</td>\n",
       "      <td>0.509800</td>\n",
       "      <td>0.476600</td>\n",
       "      <td>0.104500</td>\n",
       "      <td>99.303200</td>\n",
       "      <td>0.102800</td>\n",
       "      <td>0.079900</td>\n",
       "      <td>0.028600</td>\n",
       "      <td>737.304800</td>\n",
       "      <td>1.000000</td>\n",
       "    </tr>\n",
       "  </tbody>\n",
       "</table>\n",
       "<p>11 rows × 592 columns</p>\n",
       "</div>"
      ],
      "text/plain": [
       "                       Time            0            1            2  \\\n",
       "count                  1567  1561.000000  1560.000000  1553.000000   \n",
       "unique                 1534          NaN          NaN          NaN   \n",
       "top     2008-10-15 01:52:00          NaN          NaN          NaN   \n",
       "freq                      3          NaN          NaN          NaN   \n",
       "mean                    NaN  3014.452896  2495.850231  2200.547318   \n",
       "std                     NaN    73.621787    80.407705    29.513152   \n",
       "min                     NaN  2743.240000  2158.750000  2060.660000   \n",
       "25%                     NaN  2966.260000  2452.247500  2181.044400   \n",
       "50%                     NaN  3011.490000  2499.405000  2201.066700   \n",
       "75%                     NaN  3056.650000  2538.822500  2218.055500   \n",
       "max                     NaN  3356.350000  2846.440000  2315.266700   \n",
       "\n",
       "                  3            4       5            6            7  \\\n",
       "count   1553.000000  1553.000000  1553.0  1553.000000  1558.000000   \n",
       "unique          NaN          NaN     NaN          NaN          NaN   \n",
       "top             NaN          NaN     NaN          NaN          NaN   \n",
       "freq            NaN          NaN     NaN          NaN          NaN   \n",
       "mean    1396.376627     4.197013   100.0   101.112908     0.121822   \n",
       "std      441.691640    56.355540     0.0     6.237214     0.008961   \n",
       "min        0.000000     0.681500   100.0    82.131100     0.000000   \n",
       "25%     1081.875800     1.017700   100.0    97.920000     0.121100   \n",
       "50%     1285.214400     1.316800   100.0   101.512200     0.122400   \n",
       "75%     1591.223500     1.525700   100.0   104.586700     0.123800   \n",
       "max     3715.041700  1114.536600   100.0   129.252200     0.128600   \n",
       "\n",
       "                  8  ...         581          582          583          584  \\\n",
       "count   1565.000000  ...  618.000000  1566.000000  1566.000000  1566.000000   \n",
       "unique          NaN  ...         NaN          NaN          NaN          NaN   \n",
       "top             NaN  ...         NaN          NaN          NaN          NaN   \n",
       "freq            NaN  ...         NaN          NaN          NaN          NaN   \n",
       "mean       1.462862  ...   97.934373     0.500096     0.015318     0.003847   \n",
       "std        0.073897  ...   87.520966     0.003404     0.017180     0.003720   \n",
       "min        1.191000  ...    0.000000     0.477800     0.006000     0.001700   \n",
       "25%        1.411200  ...   46.184900     0.497900     0.011600     0.003100   \n",
       "50%        1.461600  ...   72.288900     0.500200     0.013800     0.003600   \n",
       "75%        1.516900  ...  116.539150     0.502375     0.016500     0.004100   \n",
       "max        1.656400  ...  737.304800     0.509800     0.476600     0.104500   \n",
       "\n",
       "                585          586          587          588          589  \\\n",
       "count   1566.000000  1566.000000  1566.000000  1566.000000  1566.000000   \n",
       "unique          NaN          NaN          NaN          NaN          NaN   \n",
       "top             NaN          NaN          NaN          NaN          NaN   \n",
       "freq            NaN          NaN          NaN          NaN          NaN   \n",
       "mean       3.067826     0.021458     0.016475     0.005283    99.670066   \n",
       "std        3.578033     0.012358     0.008808     0.002867    93.891919   \n",
       "min        1.197500    -0.016900     0.003200     0.001000     0.000000   \n",
       "25%        2.306500     0.013425     0.010600     0.003300    44.368600   \n",
       "50%        2.757650     0.020500     0.014800     0.004600    71.900500   \n",
       "75%        3.295175     0.027600     0.020300     0.006400   114.749700   \n",
       "max       99.303200     0.102800     0.079900     0.028600   737.304800   \n",
       "\n",
       "          Pass/Fail  \n",
       "count   1567.000000  \n",
       "unique          NaN  \n",
       "top             NaN  \n",
       "freq            NaN  \n",
       "mean      -0.867262  \n",
       "std        0.498010  \n",
       "min       -1.000000  \n",
       "25%       -1.000000  \n",
       "50%       -1.000000  \n",
       "75%       -1.000000  \n",
       "max        1.000000  \n",
       "\n",
       "[11 rows x 592 columns]"
      ]
     },
     "execution_count": 4,
     "metadata": {},
     "output_type": "execute_result"
    }
   ],
   "source": [
    "# include='all'하면 입력의 모든 열이 데이터 출력으로 포함, 기본값인 'None'은 수치데이터가 있는 열만 결과에 포함\n",
    "data.describe(include='all')"
   ]
  },
  {
   "cell_type": "markdown",
   "metadata": {},
   "source": [
    "## 1. Data Preprocessing"
   ]
  },
  {
   "cell_type": "code",
   "execution_count": 5,
   "metadata": {},
   "outputs": [
    {
     "data": {
      "text/plain": [
       "True"
      ]
     },
     "execution_count": 5,
     "metadata": {},
     "output_type": "execute_result"
    }
   ],
   "source": [
    "# Check data's Null values\n",
    "data.isnull().any().any()"
   ]
  },
  {
   "cell_type": "markdown",
   "metadata": {},
   "source": [
    "위의 결과를 통해 데이터에 결측값이 있다는 것을 확인했고, 결측값이 50% 이상인 열은 삭제하고, 나머지는 fillna의 method='ffill'을 통해 결측값을 앞 방향으로 채운 뒤"
   ]
  },
  {
   "cell_type": "code",
   "execution_count": 6,
   "metadata": {},
   "outputs": [],
   "source": [
    "# Column에서 결측값의 percentage를 나타내는 함수 정의\n",
    "# pd.concat->데이터 프레임 결합\n",
    "# df.shape[0]은 데이터 전체 열의 개수\n",
    "def null_values(df):\n",
    "    nv=pd.concat([df.isnull().sum(), 100 * df.isnull().sum()/df.shape[0]],axis=1).rename(columns={0:'Missing_Records', 1:'Percentage (%)'})\n",
    "    return nv[nv.Missing_Records>0].sort_values('Missing_Records', ascending=False)"
   ]
  },
  {
   "cell_type": "code",
   "execution_count": 7,
   "metadata": {},
   "outputs": [],
   "source": [
    "# Get rid of 'Time' column because it's meaningless\n",
    "data=data.drop(['Time'],axis=1)"
   ]
  },
  {
   "cell_type": "code",
   "execution_count": 8,
   "metadata": {},
   "outputs": [
    {
     "data": {
      "text/html": [
       "<div>\n",
       "<style scoped>\n",
       "    .dataframe tbody tr th:only-of-type {\n",
       "        vertical-align: middle;\n",
       "    }\n",
       "\n",
       "    .dataframe tbody tr th {\n",
       "        vertical-align: top;\n",
       "    }\n",
       "\n",
       "    .dataframe thead th {\n",
       "        text-align: right;\n",
       "    }\n",
       "</style>\n",
       "<table border=\"1\" class=\"dataframe\">\n",
       "  <thead>\n",
       "    <tr style=\"text-align: right;\">\n",
       "      <th></th>\n",
       "      <th>Missing_Records</th>\n",
       "      <th>Percentage (%)</th>\n",
       "    </tr>\n",
       "  </thead>\n",
       "  <tbody>\n",
       "    <tr>\n",
       "      <th>292</th>\n",
       "      <td>1429</td>\n",
       "      <td>91.193363</td>\n",
       "    </tr>\n",
       "    <tr>\n",
       "      <th>293</th>\n",
       "      <td>1429</td>\n",
       "      <td>91.193363</td>\n",
       "    </tr>\n",
       "    <tr>\n",
       "      <th>157</th>\n",
       "      <td>1429</td>\n",
       "      <td>91.193363</td>\n",
       "    </tr>\n",
       "    <tr>\n",
       "      <th>158</th>\n",
       "      <td>1429</td>\n",
       "      <td>91.193363</td>\n",
       "    </tr>\n",
       "    <tr>\n",
       "      <th>358</th>\n",
       "      <td>1341</td>\n",
       "      <td>85.577537</td>\n",
       "    </tr>\n",
       "    <tr>\n",
       "      <th>...</th>\n",
       "      <td>...</td>\n",
       "      <td>...</td>\n",
       "    </tr>\n",
       "    <tr>\n",
       "      <th>456</th>\n",
       "      <td>1</td>\n",
       "      <td>0.063816</td>\n",
       "    </tr>\n",
       "    <tr>\n",
       "      <th>218</th>\n",
       "      <td>1</td>\n",
       "      <td>0.063816</td>\n",
       "    </tr>\n",
       "    <tr>\n",
       "      <th>356</th>\n",
       "      <td>1</td>\n",
       "      <td>0.063816</td>\n",
       "    </tr>\n",
       "    <tr>\n",
       "      <th>457</th>\n",
       "      <td>1</td>\n",
       "      <td>0.063816</td>\n",
       "    </tr>\n",
       "    <tr>\n",
       "      <th>589</th>\n",
       "      <td>1</td>\n",
       "      <td>0.063816</td>\n",
       "    </tr>\n",
       "  </tbody>\n",
       "</table>\n",
       "<p>538 rows × 2 columns</p>\n",
       "</div>"
      ],
      "text/plain": [
       "     Missing_Records  Percentage (%)\n",
       "292             1429       91.193363\n",
       "293             1429       91.193363\n",
       "157             1429       91.193363\n",
       "158             1429       91.193363\n",
       "358             1341       85.577537\n",
       "..               ...             ...\n",
       "456                1        0.063816\n",
       "218                1        0.063816\n",
       "356                1        0.063816\n",
       "457                1        0.063816\n",
       "589                1        0.063816\n",
       "\n",
       "[538 rows x 2 columns]"
      ]
     },
     "execution_count": 8,
     "metadata": {},
     "output_type": "execute_result"
    }
   ],
   "source": [
    "df_na = null_values(data)\n",
    "df_na"
   ]
  },
  {
   "cell_type": "code",
   "execution_count": 9,
   "metadata": {},
   "outputs": [
    {
     "data": {
      "text/plain": [
       "(28, 2)"
      ]
     },
     "execution_count": 9,
     "metadata": {},
     "output_type": "execute_result"
    }
   ],
   "source": [
    "# 결측값의 비율이 50% 넘는 열 개수 확인\n",
    "df_na = df_na[df_na[\"Percentage (%)\"] > 50]\n",
    "df_na\n",
    "df_na.shape"
   ]
  },
  {
   "cell_type": "code",
   "execution_count": 10,
   "metadata": {},
   "outputs": [
    {
     "data": {
      "text/plain": [
       "Index(['292', '293', '157', '158', '358', '85', '492', '220', '518', '246',\n",
       "       '245', '516', '517', '110', '384', '382', '383', '109', '244', '111',\n",
       "       '580', '578', '581', '579', '73', '72', '345', '346'],\n",
       "      dtype='object')"
      ]
     },
     "execution_count": 10,
     "metadata": {},
     "output_type": "execute_result"
    }
   ],
   "source": [
    "# 결측값의 비율이 50% 넘는 열 확인\n",
    "df_na.index"
   ]
  },
  {
   "cell_type": "code",
   "execution_count": 11,
   "metadata": {},
   "outputs": [
    {
     "data": {
      "text/plain": [
       "(1567, 563)"
      ]
     },
     "execution_count": 11,
     "metadata": {},
     "output_type": "execute_result"
    }
   ],
   "source": [
    "# 결측값의 비율이 50% 넘는 열 삭제\n",
    "data = data.drop(axis=1, columns=df_na.index)\n",
    "data.shape"
   ]
  },
  {
   "cell_type": "markdown",
   "metadata": {},
   "source": [
    "본래 592개의 열에서 50%가 넘는 28개의 열이 삭제됐음을 확인할 수 있음"
   ]
  },
  {
   "cell_type": "code",
   "execution_count": 12,
   "metadata": {},
   "outputs": [
    {
     "data": {
      "text/html": [
       "<div>\n",
       "<style scoped>\n",
       "    .dataframe tbody tr th:only-of-type {\n",
       "        vertical-align: middle;\n",
       "    }\n",
       "\n",
       "    .dataframe tbody tr th {\n",
       "        vertical-align: top;\n",
       "    }\n",
       "\n",
       "    .dataframe thead th {\n",
       "        text-align: right;\n",
       "    }\n",
       "</style>\n",
       "<table border=\"1\" class=\"dataframe\">\n",
       "  <thead>\n",
       "    <tr style=\"text-align: right;\">\n",
       "      <th></th>\n",
       "      <th>0</th>\n",
       "      <th>1</th>\n",
       "      <th>2</th>\n",
       "      <th>3</th>\n",
       "      <th>4</th>\n",
       "      <th>5</th>\n",
       "      <th>6</th>\n",
       "      <th>7</th>\n",
       "      <th>8</th>\n",
       "      <th>9</th>\n",
       "      <th>...</th>\n",
       "      <th>577</th>\n",
       "      <th>582</th>\n",
       "      <th>583</th>\n",
       "      <th>584</th>\n",
       "      <th>585</th>\n",
       "      <th>586</th>\n",
       "      <th>587</th>\n",
       "      <th>588</th>\n",
       "      <th>589</th>\n",
       "      <th>Pass/Fail</th>\n",
       "    </tr>\n",
       "  </thead>\n",
       "  <tbody>\n",
       "    <tr>\n",
       "      <th>0</th>\n",
       "      <td>3030.93</td>\n",
       "      <td>2564.00</td>\n",
       "      <td>2187.7333</td>\n",
       "      <td>1411.1265</td>\n",
       "      <td>1.3602</td>\n",
       "      <td>100.0</td>\n",
       "      <td>97.6133</td>\n",
       "      <td>0.1242</td>\n",
       "      <td>1.5005</td>\n",
       "      <td>0.0162</td>\n",
       "      <td>...</td>\n",
       "      <td>14.9509</td>\n",
       "      <td>0.5005</td>\n",
       "      <td>0.0118</td>\n",
       "      <td>0.0035</td>\n",
       "      <td>2.3630</td>\n",
       "      <td>0.0096</td>\n",
       "      <td>0.0201</td>\n",
       "      <td>0.0060</td>\n",
       "      <td>208.2045</td>\n",
       "      <td>-1</td>\n",
       "    </tr>\n",
       "    <tr>\n",
       "      <th>1</th>\n",
       "      <td>3095.78</td>\n",
       "      <td>2465.14</td>\n",
       "      <td>2230.4222</td>\n",
       "      <td>1463.6606</td>\n",
       "      <td>0.8294</td>\n",
       "      <td>100.0</td>\n",
       "      <td>102.3433</td>\n",
       "      <td>0.1247</td>\n",
       "      <td>1.4966</td>\n",
       "      <td>-0.0005</td>\n",
       "      <td>...</td>\n",
       "      <td>10.9003</td>\n",
       "      <td>0.5019</td>\n",
       "      <td>0.0223</td>\n",
       "      <td>0.0055</td>\n",
       "      <td>4.4447</td>\n",
       "      <td>0.0096</td>\n",
       "      <td>0.0201</td>\n",
       "      <td>0.0060</td>\n",
       "      <td>208.2045</td>\n",
       "      <td>-1</td>\n",
       "    </tr>\n",
       "    <tr>\n",
       "      <th>2</th>\n",
       "      <td>2932.61</td>\n",
       "      <td>2559.94</td>\n",
       "      <td>2186.4111</td>\n",
       "      <td>1698.0172</td>\n",
       "      <td>1.5102</td>\n",
       "      <td>100.0</td>\n",
       "      <td>95.4878</td>\n",
       "      <td>0.1241</td>\n",
       "      <td>1.4436</td>\n",
       "      <td>0.0041</td>\n",
       "      <td>...</td>\n",
       "      <td>9.2721</td>\n",
       "      <td>0.4958</td>\n",
       "      <td>0.0157</td>\n",
       "      <td>0.0039</td>\n",
       "      <td>3.1745</td>\n",
       "      <td>0.0584</td>\n",
       "      <td>0.0484</td>\n",
       "      <td>0.0148</td>\n",
       "      <td>82.8602</td>\n",
       "      <td>1</td>\n",
       "    </tr>\n",
       "    <tr>\n",
       "      <th>3</th>\n",
       "      <td>2988.72</td>\n",
       "      <td>2479.90</td>\n",
       "      <td>2199.0333</td>\n",
       "      <td>909.7926</td>\n",
       "      <td>1.3204</td>\n",
       "      <td>100.0</td>\n",
       "      <td>104.2367</td>\n",
       "      <td>0.1217</td>\n",
       "      <td>1.4882</td>\n",
       "      <td>-0.0124</td>\n",
       "      <td>...</td>\n",
       "      <td>8.5831</td>\n",
       "      <td>0.4990</td>\n",
       "      <td>0.0103</td>\n",
       "      <td>0.0025</td>\n",
       "      <td>2.0544</td>\n",
       "      <td>0.0202</td>\n",
       "      <td>0.0149</td>\n",
       "      <td>0.0044</td>\n",
       "      <td>73.8432</td>\n",
       "      <td>-1</td>\n",
       "    </tr>\n",
       "    <tr>\n",
       "      <th>4</th>\n",
       "      <td>3032.24</td>\n",
       "      <td>2502.87</td>\n",
       "      <td>2233.3667</td>\n",
       "      <td>1326.5200</td>\n",
       "      <td>1.5334</td>\n",
       "      <td>100.0</td>\n",
       "      <td>100.3967</td>\n",
       "      <td>0.1235</td>\n",
       "      <td>1.5031</td>\n",
       "      <td>-0.0031</td>\n",
       "      <td>...</td>\n",
       "      <td>10.9698</td>\n",
       "      <td>0.4800</td>\n",
       "      <td>0.4766</td>\n",
       "      <td>0.1045</td>\n",
       "      <td>99.3032</td>\n",
       "      <td>0.0202</td>\n",
       "      <td>0.0149</td>\n",
       "      <td>0.0044</td>\n",
       "      <td>73.8432</td>\n",
       "      <td>-1</td>\n",
       "    </tr>\n",
       "    <tr>\n",
       "      <th>...</th>\n",
       "      <td>...</td>\n",
       "      <td>...</td>\n",
       "      <td>...</td>\n",
       "      <td>...</td>\n",
       "      <td>...</td>\n",
       "      <td>...</td>\n",
       "      <td>...</td>\n",
       "      <td>...</td>\n",
       "      <td>...</td>\n",
       "      <td>...</td>\n",
       "      <td>...</td>\n",
       "      <td>...</td>\n",
       "      <td>...</td>\n",
       "      <td>...</td>\n",
       "      <td>...</td>\n",
       "      <td>...</td>\n",
       "      <td>...</td>\n",
       "      <td>...</td>\n",
       "      <td>...</td>\n",
       "      <td>...</td>\n",
       "      <td>...</td>\n",
       "    </tr>\n",
       "    <tr>\n",
       "      <th>1562</th>\n",
       "      <td>2899.41</td>\n",
       "      <td>2464.36</td>\n",
       "      <td>2179.7333</td>\n",
       "      <td>3085.3781</td>\n",
       "      <td>1.4843</td>\n",
       "      <td>100.0</td>\n",
       "      <td>82.2467</td>\n",
       "      <td>0.1248</td>\n",
       "      <td>1.3424</td>\n",
       "      <td>-0.0045</td>\n",
       "      <td>...</td>\n",
       "      <td>11.7256</td>\n",
       "      <td>0.4988</td>\n",
       "      <td>0.0143</td>\n",
       "      <td>0.0039</td>\n",
       "      <td>2.8669</td>\n",
       "      <td>0.0068</td>\n",
       "      <td>0.0138</td>\n",
       "      <td>0.0047</td>\n",
       "      <td>203.1720</td>\n",
       "      <td>-1</td>\n",
       "    </tr>\n",
       "    <tr>\n",
       "      <th>1563</th>\n",
       "      <td>3052.31</td>\n",
       "      <td>2522.55</td>\n",
       "      <td>2198.5667</td>\n",
       "      <td>1124.6595</td>\n",
       "      <td>0.8763</td>\n",
       "      <td>100.0</td>\n",
       "      <td>98.4689</td>\n",
       "      <td>0.1205</td>\n",
       "      <td>1.4333</td>\n",
       "      <td>-0.0061</td>\n",
       "      <td>...</td>\n",
       "      <td>17.8379</td>\n",
       "      <td>0.4975</td>\n",
       "      <td>0.0131</td>\n",
       "      <td>0.0036</td>\n",
       "      <td>2.6238</td>\n",
       "      <td>0.0068</td>\n",
       "      <td>0.0138</td>\n",
       "      <td>0.0047</td>\n",
       "      <td>203.1720</td>\n",
       "      <td>-1</td>\n",
       "    </tr>\n",
       "    <tr>\n",
       "      <th>1564</th>\n",
       "      <td>2978.81</td>\n",
       "      <td>2379.78</td>\n",
       "      <td>2206.3000</td>\n",
       "      <td>1110.4967</td>\n",
       "      <td>0.8236</td>\n",
       "      <td>100.0</td>\n",
       "      <td>99.4122</td>\n",
       "      <td>0.1208</td>\n",
       "      <td>1.4333</td>\n",
       "      <td>-0.0061</td>\n",
       "      <td>...</td>\n",
       "      <td>17.7267</td>\n",
       "      <td>0.4987</td>\n",
       "      <td>0.0153</td>\n",
       "      <td>0.0041</td>\n",
       "      <td>3.0590</td>\n",
       "      <td>0.0197</td>\n",
       "      <td>0.0086</td>\n",
       "      <td>0.0025</td>\n",
       "      <td>43.5231</td>\n",
       "      <td>-1</td>\n",
       "    </tr>\n",
       "    <tr>\n",
       "      <th>1565</th>\n",
       "      <td>2894.92</td>\n",
       "      <td>2532.01</td>\n",
       "      <td>2177.0333</td>\n",
       "      <td>1183.7287</td>\n",
       "      <td>1.5726</td>\n",
       "      <td>100.0</td>\n",
       "      <td>98.7978</td>\n",
       "      <td>0.1213</td>\n",
       "      <td>1.4622</td>\n",
       "      <td>-0.0072</td>\n",
       "      <td>...</td>\n",
       "      <td>19.2104</td>\n",
       "      <td>0.5004</td>\n",
       "      <td>0.0178</td>\n",
       "      <td>0.0038</td>\n",
       "      <td>3.5662</td>\n",
       "      <td>0.0262</td>\n",
       "      <td>0.0245</td>\n",
       "      <td>0.0075</td>\n",
       "      <td>93.4941</td>\n",
       "      <td>-1</td>\n",
       "    </tr>\n",
       "    <tr>\n",
       "      <th>1566</th>\n",
       "      <td>2944.92</td>\n",
       "      <td>2450.76</td>\n",
       "      <td>2195.4444</td>\n",
       "      <td>2914.1792</td>\n",
       "      <td>1.5978</td>\n",
       "      <td>100.0</td>\n",
       "      <td>85.1011</td>\n",
       "      <td>0.1235</td>\n",
       "      <td>1.4622</td>\n",
       "      <td>-0.0072</td>\n",
       "      <td>...</td>\n",
       "      <td>22.9183</td>\n",
       "      <td>0.4987</td>\n",
       "      <td>0.0181</td>\n",
       "      <td>0.0040</td>\n",
       "      <td>3.6275</td>\n",
       "      <td>0.0117</td>\n",
       "      <td>0.0162</td>\n",
       "      <td>0.0045</td>\n",
       "      <td>137.7844</td>\n",
       "      <td>-1</td>\n",
       "    </tr>\n",
       "  </tbody>\n",
       "</table>\n",
       "<p>1567 rows × 563 columns</p>\n",
       "</div>"
      ],
      "text/plain": [
       "            0        1          2          3       4      5         6       7  \\\n",
       "0     3030.93  2564.00  2187.7333  1411.1265  1.3602  100.0   97.6133  0.1242   \n",
       "1     3095.78  2465.14  2230.4222  1463.6606  0.8294  100.0  102.3433  0.1247   \n",
       "2     2932.61  2559.94  2186.4111  1698.0172  1.5102  100.0   95.4878  0.1241   \n",
       "3     2988.72  2479.90  2199.0333   909.7926  1.3204  100.0  104.2367  0.1217   \n",
       "4     3032.24  2502.87  2233.3667  1326.5200  1.5334  100.0  100.3967  0.1235   \n",
       "...       ...      ...        ...        ...     ...    ...       ...     ...   \n",
       "1562  2899.41  2464.36  2179.7333  3085.3781  1.4843  100.0   82.2467  0.1248   \n",
       "1563  3052.31  2522.55  2198.5667  1124.6595  0.8763  100.0   98.4689  0.1205   \n",
       "1564  2978.81  2379.78  2206.3000  1110.4967  0.8236  100.0   99.4122  0.1208   \n",
       "1565  2894.92  2532.01  2177.0333  1183.7287  1.5726  100.0   98.7978  0.1213   \n",
       "1566  2944.92  2450.76  2195.4444  2914.1792  1.5978  100.0   85.1011  0.1235   \n",
       "\n",
       "           8       9  ...      577     582     583     584      585     586  \\\n",
       "0     1.5005  0.0162  ...  14.9509  0.5005  0.0118  0.0035   2.3630  0.0096   \n",
       "1     1.4966 -0.0005  ...  10.9003  0.5019  0.0223  0.0055   4.4447  0.0096   \n",
       "2     1.4436  0.0041  ...   9.2721  0.4958  0.0157  0.0039   3.1745  0.0584   \n",
       "3     1.4882 -0.0124  ...   8.5831  0.4990  0.0103  0.0025   2.0544  0.0202   \n",
       "4     1.5031 -0.0031  ...  10.9698  0.4800  0.4766  0.1045  99.3032  0.0202   \n",
       "...      ...     ...  ...      ...     ...     ...     ...      ...     ...   \n",
       "1562  1.3424 -0.0045  ...  11.7256  0.4988  0.0143  0.0039   2.8669  0.0068   \n",
       "1563  1.4333 -0.0061  ...  17.8379  0.4975  0.0131  0.0036   2.6238  0.0068   \n",
       "1564  1.4333 -0.0061  ...  17.7267  0.4987  0.0153  0.0041   3.0590  0.0197   \n",
       "1565  1.4622 -0.0072  ...  19.2104  0.5004  0.0178  0.0038   3.5662  0.0262   \n",
       "1566  1.4622 -0.0072  ...  22.9183  0.4987  0.0181  0.0040   3.6275  0.0117   \n",
       "\n",
       "         587     588       589  Pass/Fail  \n",
       "0     0.0201  0.0060  208.2045         -1  \n",
       "1     0.0201  0.0060  208.2045         -1  \n",
       "2     0.0484  0.0148   82.8602          1  \n",
       "3     0.0149  0.0044   73.8432         -1  \n",
       "4     0.0149  0.0044   73.8432         -1  \n",
       "...      ...     ...       ...        ...  \n",
       "1562  0.0138  0.0047  203.1720         -1  \n",
       "1563  0.0138  0.0047  203.1720         -1  \n",
       "1564  0.0086  0.0025   43.5231         -1  \n",
       "1565  0.0245  0.0075   93.4941         -1  \n",
       "1566  0.0162  0.0045  137.7844         -1  \n",
       "\n",
       "[1567 rows x 563 columns]"
      ]
     },
     "execution_count": 12,
     "metadata": {},
     "output_type": "execute_result"
    }
   ],
   "source": [
    "# 나머지 열의 결측값은  나머지는 fillna의 method='ffill'과 'bfill'을 통해 결측값을 앞뒤 방향으로 채운다.\n",
    "data.fillna(method='ffill', inplace=True)\n",
    "data.fillna(method='bfill', inplace=True)\n",
    "data"
   ]
  },
  {
   "cell_type": "code",
   "execution_count": 13,
   "metadata": {},
   "outputs": [
    {
     "data": {
      "text/plain": [
       "False"
      ]
     },
     "execution_count": 13,
     "metadata": {},
     "output_type": "execute_result"
    }
   ],
   "source": [
    "data.isnull().any().any()"
   ]
  },
  {
   "cell_type": "markdown",
   "metadata": {},
   "source": [
    "결측값이 더이상 없음을 확인할 수 있다.\n",
    "\n",
    "#### 추가로 고유값이 1개뿐인 열을 삭제하는 전처리 진행"
   ]
  },
  {
   "cell_type": "code",
   "execution_count": 14,
   "metadata": {},
   "outputs": [
    {
     "data": {
      "text/plain": [
       "1"
      ]
     },
     "execution_count": 14,
     "metadata": {},
     "output_type": "execute_result"
    }
   ],
   "source": [
    "# nunique() 함수를 써서 5열의 고유치 개수를 확인\n",
    "data[\"5\"].nunique()"
   ]
  },
  {
   "cell_type": "code",
   "execution_count": 15,
   "metadata": {},
   "outputs": [],
   "source": [
    "# Column '5'와 같이 고유값이 1개인 열을 저장하는 unique_columns함수 생성\n",
    "def unique_columns(df):\n",
    "    uni_col_list = []\n",
    "    for column in df.columns:\n",
    "        if df[column].nunique() == 1:\n",
    "            uni_col_list.append(column)\n",
    "    return uni_col_list"
   ]
  },
  {
   "cell_type": "code",
   "execution_count": 16,
   "metadata": {},
   "outputs": [
    {
     "data": {
      "text/plain": [
       "116"
      ]
     },
     "execution_count": 16,
     "metadata": {},
     "output_type": "execute_result"
    }
   ],
   "source": [
    "# 고유치 개수가 1개인 열의 개수 확인\n",
    "len(unique_columns(data))"
   ]
  },
  {
   "cell_type": "code",
   "execution_count": 17,
   "metadata": {},
   "outputs": [
    {
     "data": {
      "text/plain": [
       "(1567, 563)"
      ]
     },
     "execution_count": 17,
     "metadata": {},
     "output_type": "execute_result"
    }
   ],
   "source": [
    "data.shape"
   ]
  },
  {
   "cell_type": "code",
   "execution_count": 18,
   "metadata": {},
   "outputs": [
    {
     "data": {
      "text/plain": [
       "(1567, 447)"
      ]
     },
     "execution_count": 18,
     "metadata": {},
     "output_type": "execute_result"
    }
   ],
   "source": [
    "data = data.drop(axis=1, columns=unique_columns(data))\n",
    "data.shape"
   ]
  },
  {
   "cell_type": "markdown",
   "metadata": {},
   "source": [
    "고유치 개수가 1개인 열 116개가 지워진 것을 확인할 수 있다."
   ]
  },
  {
   "cell_type": "markdown",
   "metadata": {},
   "source": [
    "### Data Scaling\n",
    "- 1. StandardScaler \n",
    "- 2. PCA 차원축소"
   ]
  },
  {
   "cell_type": "code",
   "execution_count": 19,
   "metadata": {},
   "outputs": [],
   "source": [
    "# Train/Test Dataset split을 위해 Dataset을 Data/Target값으로 분리\n",
    "X = data.iloc[:, 1:-1]\n",
    "y = data.iloc[:, -1]"
   ]
  },
  {
   "cell_type": "code",
   "execution_count": 20,
   "metadata": {},
   "outputs": [],
   "source": [
    "from imblearn.over_sampling import SMOTE\n",
    "X_resample, y_resample  = SMOTE(random_state=1).fit_sample(X, y.values.ravel())"
   ]
  },
  {
   "cell_type": "code",
   "execution_count": 21,
   "metadata": {},
   "outputs": [],
   "source": [
    "from sklearn.model_selection import train_test_split\n",
    "X_train, X_test, y_train, y_test = train_test_split(X_resample, y_resample,random_state=50)"
   ]
  },
  {
   "cell_type": "markdown",
   "metadata": {},
   "source": [
    "(1) StandardScaler: 각 feature의 평균을 0, 분산을 1로 변경, 모든 feature들이 같은 Scale을 갖게된다."
   ]
  },
  {
   "cell_type": "code",
   "execution_count": 22,
   "metadata": {},
   "outputs": [
    {
     "data": {
      "text/plain": [
       "array([ 1, -1,  1, ...,  1, -1,  1], dtype=int64)"
      ]
     },
     "execution_count": 22,
     "metadata": {},
     "output_type": "execute_result"
    }
   ],
   "source": [
    "y_train"
   ]
  },
  {
   "cell_type": "markdown",
   "metadata": {},
   "source": [
    "#### ※ Scaler를 사용하기 전에 주의할 점\n",
    "scaler는 fit과 transform 매서드를 지니고 있다. fit 매서드로 데이터 변환을 학습하고, transform 매서드로 실제 데이터의 스케일을 조정한다.\n",
    "이때! fit 매서드는 학습용 데이터에만 적용해야한다. 그 후 transform 매서드를 학습용 데이터와 테스트 데이터에 적용한다."
   ]
  },
  {
   "cell_type": "code",
   "execution_count": 23,
   "metadata": {},
   "outputs": [
    {
     "name": "stdout",
     "output_type": "stream",
     "text": [
      "Features Min value before Scale : \n",
      " 1      2158.7500\n",
      "2      2060.6600\n",
      "3         0.0000\n",
      "4         0.6815\n",
      "6        82.1311\n",
      "         ...    \n",
      "585       1.2845\n",
      "586      -0.0060\n",
      "587       0.0032\n",
      "588       0.0010\n",
      "589       0.0000\n",
      "Length: 445, dtype: float64\n",
      "Features Max value before Scale : \n",
      " 1      2846.4400\n",
      "2      2315.2667\n",
      "3      3715.0417\n",
      "4      1112.4728\n",
      "6       129.2522\n",
      "         ...    \n",
      "585      99.3032\n",
      "586       0.1028\n",
      "587       0.0799\n",
      "588       0.0286\n",
      "589     737.3048\n",
      "Length: 445, dtype: float64\n",
      "Features Min value after Scale : \n",
      " [-4.59693849e+00 -5.21855591e+00 -3.65246862e+00 -4.94534582e-02\n",
      " -3.46284616e+00 -2.00459449e+01 -4.38926545e+00 -3.87392042e+00\n",
      " -4.05116157e+00 -2.76505582e+01 -6.22659101e+00 -2.49312193e+00\n",
      " -2.01571114e+00 -9.08158150e-01 -3.73839158e+01 -8.42110939e+00\n",
      " -1.56323595e+01 -1.50629790e+01 -2.09743849e+00 -7.36140792e+00\n",
      " -4.56617017e+00 -5.62079276e+00 -5.64337705e+00 -7.25056305e+00\n",
      " -4.62756057e+00 -2.97373008e+00 -4.32739559e+00 -4.75654471e+00\n",
      " -3.22367609e+00 -1.10405813e+00 -9.86975173e-01 -7.03839678e-01\n",
      " -3.73066434e-01 -8.81380109e+00 -5.03773769e+00 -4.24255012e+00\n",
      " -4.61209888e+00 -2.66774877e+00 -1.65714615e+00 -2.28837714e+00\n",
      " -3.54100179e+00 -3.58667736e+00 -3.08694741e+00 -4.07659827e+00\n",
      " -3.33666541e+00 -3.25048038e+00 -2.04649003e+00 -1.90485176e+01\n",
      " -1.76647330e+01 -2.12638581e+00 -9.21441256e+00 -4.39407449e+00\n",
      " -5.02966311e+00 -3.65519524e+00 -5.62493579e+00 -3.67437424e+00\n",
      " -3.69843961e+00 -1.97222936e+00 -2.67025454e+00 -3.26581990e+00\n",
      " -6.80635008e+00 -5.63786150e-02 -9.64503829e+00 -3.91762666e+00\n",
      " -2.66563602e+00 -2.13540711e-02 -4.10744468e+00 -3.83346350e+00\n",
      " -3.33056016e+00 -7.31576190e+00 -2.86927028e+00 -2.38580173e+00\n",
      " -4.85898525e+00 -3.57495878e+00 -3.27196514e+00 -3.48185775e+00\n",
      " -4.86282489e+00 -1.40794475e+01 -3.68397066e+00 -1.10799630e+00\n",
      " -4.07458078e+00 -4.74310943e+00 -4.24366109e+00 -6.25203476e+00\n",
      " -9.25157804e+00 -4.83207267e+00 -8.12591838e+00 -1.03342063e+01\n",
      " -7.18862836e+00 -8.89006511e+00 -8.91231866e+00 -7.79751156e+00\n",
      " -7.94531888e+00 -1.16873553e+01 -9.77739367e+00 -5.08113918e+00\n",
      " -6.26538545e+00 -3.83017697e+00 -6.63864685e+00 -8.51631050e+00\n",
      " -1.45222268e-01 -4.52433373e+00 -1.11561219e+01 -1.02474585e+00\n",
      " -9.89807005e+00 -1.62599491e+01 -5.01632915e+00 -3.91257668e+00\n",
      " -2.76930030e+00 -6.92564919e+00 -3.63168642e+00 -3.49290923e+00\n",
      " -1.80511266e+00 -2.80127158e+00 -1.44983410e+01 -3.30580335e+00\n",
      " -4.77076104e+00 -2.19117689e+00 -2.48002535e+00 -3.66834754e+00\n",
      " -2.21088423e+00 -1.10981343e+00 -2.08057595e+00 -2.27680048e+00\n",
      " -3.39121914e+00 -1.66640681e+00 -3.11879832e-02 -1.57128686e+00\n",
      " -3.72695133e+00 -1.48550413e+00 -1.81949333e+00 -1.67271582e+00\n",
      " -6.03796624e-01 -4.27929727e-01 -1.82116790e+00 -5.09820339e-01\n",
      " -4.81649307e-02 -1.22954271e+00 -1.31892477e+00 -3.87401156e-01\n",
      " -6.98917094e-01 -8.45647502e-01 -9.89171272e-01 -1.03089781e+00\n",
      " -7.52826533e-01 -1.01420661e+00 -4.84992856e-01 -5.50638787e-01\n",
      " -1.30774693e+00 -1.47376803e+00 -2.00929302e+00 -1.87293613e+00\n",
      " -2.62564133e+00 -2.12867194e+00 -3.16584622e+00 -3.75157832e+00\n",
      " -3.16572080e+00 -3.15479432e+00 -2.49190231e+00 -1.28741810e+00\n",
      " -3.10307505e+00 -2.18603795e+00 -2.03119304e+00 -3.64305616e+00\n",
      " -1.19609635e+00 -8.83515891e-01 -1.54153586e+00 -1.89639068e+00\n",
      " -5.05596993e-01 -5.18843008e-01 -1.26173935e+00 -1.11855132e+00\n",
      " -6.18067810e-01 -2.25348857e+00 -1.73115351e+00 -8.56176335e-01\n",
      " -1.53245453e+00 -5.67376138e-02 -7.79833734e-01 -2.13540711e-02\n",
      " -1.22771734e+00 -2.62026932e+00 -2.13540711e-02 -1.32984454e+00\n",
      " -1.83031049e+00 -1.45817027e+00 -1.12943109e+00 -1.35594900e+00\n",
      " -2.67988321e+00 -3.07105897e+00 -1.54267716e+00 -2.51702926e+00\n",
      " -1.74744828e+00 -1.75647107e+00 -1.86085509e-01 -2.70867969e+00\n",
      " -6.76703461e-01 -2.14963105e+00 -1.38064917e+00 -1.27364606e+00\n",
      " -2.24707311e+00 -2.29915946e+00 -9.45063603e-01 -5.58349178e-01\n",
      " -1.40915884e-01 -1.83827899e+00 -1.17491622e-01 -6.27292696e-02\n",
      " -1.14914345e+00 -1.43901192e+00 -2.58394160e+00 -1.78859987e+00\n",
      " -1.96576682e+00 -2.30532375e+00 -1.72311157e+00 -2.21038603e+00\n",
      " -2.22706685e+00 -3.32778919e+00 -1.68275860e+00 -3.11897414e-02\n",
      " -1.64111457e+00 -3.80894073e+00 -1.56064541e+00 -1.90043423e+00\n",
      " -1.64696737e+00 -6.11585526e-01 -4.42081133e-01 -1.86339782e+00\n",
      " -4.57523391e-01 -4.56653189e-02 -1.26782874e+00 -1.44706813e+00\n",
      " -4.14872658e-01 -7.36870717e-01 -7.82147814e-01 -9.01689429e-01\n",
      " -1.02535164e+00 -7.44568897e-01 -8.80673286e-01 -4.37651125e-01\n",
      " -4.94161767e-01 -1.54926172e+00 -1.47593002e+00 -2.14317004e+00\n",
      " -1.91942450e+00 -2.80252626e+00 -2.08051942e+00 -3.14088041e+00\n",
      " -4.21191381e+00 -3.14049514e+00 -3.34684544e+00 -2.40208485e+00\n",
      " -1.22554681e+00 -3.30854626e+00 -2.13734349e+00 -2.02056424e+00\n",
      " -3.24978889e+00 -1.25140630e+00 -9.15043807e-01 -1.71925917e+00\n",
      " -1.87998865e+00 -9.36796645e-01 -4.45349322e-01 -1.27297383e+00\n",
      " -1.05473271e+00 -5.52741924e-01 -7.80994219e-01 -1.52884070e+00\n",
      " -6.60274141e-01 -1.41585380e+00 -5.83272031e-02 -7.30534599e-01\n",
      " -2.13540711e-02 -1.22843708e+00 -2.58406721e+00 -2.13540711e-02\n",
      " -1.08145836e+00 -1.88575033e+00 -1.44310293e+00 -1.08683514e+00\n",
      " -1.61675110e+00 -2.62954753e+00 -3.08277963e+00 -1.54435727e+00\n",
      " -2.52704021e+00 -1.58125595e+00 -1.59843663e+00 -1.72781582e-01\n",
      " -2.71277008e+00 -6.83875272e-01 -2.11957692e+00 -1.39651392e+00\n",
      " -1.36747825e+00 -1.43372091e+00 -1.77649603e+00 -2.37731165e+00\n",
      " -2.66412880e+00 -9.70486947e-01 -6.00442937e-01 -1.41193475e-01\n",
      " -1.89648517e+00 -1.15042945e-01 -5.67268436e-02 -1.23994627e+00\n",
      " -1.42411360e+00 -2.93727189e+00 -1.74887218e+00 -1.75781228e+00\n",
      " -2.43036061e+00 -1.07036598e+00 -2.07681300e+00 -2.26408554e+00\n",
      " -3.35353681e+00 -1.80894179e+00 -6.48021009e-01 -1.46046824e+00\n",
      " -3.75428154e+00 -1.55111759e+00 -1.14949298e+00 -1.06523353e+00\n",
      " -5.61948120e-01 -5.68310315e-01 -1.89391888e+00 -5.62817089e-01\n",
      " -2.96480446e-01 -1.20214058e+00 -1.20003757e+00 -3.35305742e-01\n",
      " -6.22124576e-01 -4.42488759e-01 -5.30500543e-01 -8.68487509e-01\n",
      " -1.00091318e+00 -3.91581325e-01 -2.82332360e-01 -2.45056027e-01\n",
      " -1.30058376e+00 -1.13086318e+00 -1.76851826e+00 -1.78932234e+00\n",
      " -2.59800034e+00 -2.15218490e+00 -3.41256615e+00 -4.05929159e+00\n",
      " -2.83276447e+00 -3.14567937e+00 -2.48305340e+00 -1.29459845e+00\n",
      " -3.10796771e+00 -2.18567314e+00 -1.99075440e+00 -3.59191105e+00\n",
      " -1.28262710e+00 -9.88446308e-01 -1.57342022e+00 -1.73155997e+00\n",
      " -5.04937755e-01 -9.71197930e-01 -1.22656655e+00 -1.14307402e+00\n",
      " -7.90600660e-01 -2.81723809e+00 -1.87178787e+00 -1.69934841e+00\n",
      " -1.45029762e+00 -1.69925347e+00 -6.08312469e-01 -2.13540711e-02\n",
      " -1.32251194e+00 -1.93123681e+00 -1.21477740e+00 -1.18558161e+00\n",
      " -1.03861543e+00 -9.51555729e-01 -1.21572500e+00 -9.57986506e-01\n",
      " -1.40482500e+00 -1.34752470e+00 -2.23062897e+00 -1.72517977e+00\n",
      " -1.76151150e+00 -1.72008818e-01 -2.68517301e+00 -1.17389657e+00\n",
      " -2.13836471e+00 -8.15027623e-01 -8.28466517e-01 -1.52789936e+00\n",
      " -1.00476196e+00 -8.73784242e-01 -5.22424828e-01 -1.62362596e-01\n",
      " -1.91755821e+00 -1.13039535e-01 -2.42714270e-01 -1.12291202e+00\n",
      " -1.42520500e+00 -2.51689828e+00 -1.82156950e+00 -1.95516388e+00\n",
      " -2.36214194e+00 -2.30701390e+00 -2.47716764e+00 -3.56780526e+00\n",
      " -2.76238129e+00 -1.63482730e+00 -4.77373792e+00 -1.50113248e+00\n",
      " -1.03698745e+00 -2.22133740e+00 -8.36437102e-01 -1.05505017e+00\n",
      " -2.33563722e+00 -7.91110444e-01 -1.74919357e+00 -2.19704880e+00\n",
      " -7.91887765e-01 -1.24400229e+00 -1.35552663e+00 -1.20582997e+00\n",
      " -1.37663584e+00 -2.77925332e+00 -3.12273736e+00 -2.28159173e+00\n",
      " -1.53260897e+00 -2.34454472e+00 -1.55901324e+00 -2.29958259e+00\n",
      " -1.78853492e+00 -1.18934351e+01 -3.78463223e+00 -2.53793219e-01\n",
      " -1.35088368e+00 -2.65145201e-01 -1.43700032e+00 -2.56063391e-01\n",
      " -1.13866384e+00 -6.32897561e+00 -7.88925731e-01 -8.96223798e-01\n",
      " -7.69836671e-01 -2.42889596e+00 -1.68339911e+00 -1.68311113e+00\n",
      " -1.19674355e+00]\n",
      "Features Max value after Scale : \n",
      " [ 4.83898447  4.28789466  6.13079225 33.1087151   5.13252185  1.0690823\n",
      "  2.99237087  5.73980077  6.04293548  1.89789607 25.19269455  3.91241938\n",
      " 34.66368996 45.63444846  1.30049083  4.17128878  2.99108722  3.19650199\n",
      "  7.08759208  2.75323821  4.58982554  5.61400321  0.90725149  0.52456854\n",
      "  0.76234157  2.81376656  3.05374635  3.31194955  2.39149692  9.69877182\n",
      "  9.27906731  8.81380225 13.51805179  0.70382891  3.65369551  3.02128649\n",
      "  9.8208043   0.89611479 16.91117064  3.82838334  6.66594296  5.30471148\n",
      "  5.11143783  1.90937068  5.60763352  4.6816227   1.7575641   3.66971155\n",
      "  3.09424382  3.09803275  1.40505166  2.78704122  3.23802249 17.35925463\n",
      "  3.53002162  3.5095029  21.23205291 26.14571599  4.92797934 12.41791245\n",
      "  6.01515306 32.78240846  5.38150347 11.65420531  4.11696301 46.8294779\n",
      "  9.84081818  3.50775796  4.80216316  5.88971406  4.24601854  2.8860894\n",
      "  3.47672676  4.14436607  3.23174703  3.89150503  4.34232837  0.81331551\n",
      "  5.89881104 17.65562837  5.72289157  4.69018772  9.67255923  5.02952008\n",
      "  7.64012893  8.44254855 10.22321424  7.57195164 11.81018906  6.42155437\n",
      "  9.66001706  4.97011837  9.75455077  7.09063898  4.3349057   6.34202706\n",
      "  4.61229842  5.08924404  0.47262789  2.8551075  18.06651059  4.09368452\n",
      "  0.64161713 46.07454867  3.32185919  1.47662492  9.6893923   2.87418532\n",
      "  3.98312699  2.62304901  2.70511057  5.42425867  5.15103052  4.72294943\n",
      "  3.13574407  2.73218998  1.95700107 10.95568844  3.02724472  2.86063959\n",
      "  9.33484113 17.40688145  3.04734284  4.42514985  5.51704452  5.37776518\n",
      " 33.10736528 32.22946872  7.35114044  9.04557247  8.92059224 10.75070999\n",
      " 42.66322432 46.21977719  4.72360841 24.00499328 46.80988969 24.9939205\n",
      " 39.64952477 15.29890411 31.07292615  5.91175286  5.65110443  6.34434908\n",
      "  5.26002404  4.98468314  4.97594435  5.35918601 11.98935976 11.67137927\n",
      "  9.23310199  3.4989117   3.0244052   7.08311712  3.69212101  3.42293361\n",
      "  3.69183355  3.73045498  2.83845114  5.56479506 10.18871023 15.33337383\n",
      " 12.50126206  7.48747227 31.71715835 42.99478032 39.17132079  7.14989719\n",
      "  9.54595218 27.95947736 27.9226254  18.36164087 26.16350851 25.14961172\n",
      " 25.70698238 40.83475015 32.01979486 25.61990624 34.74199307 46.8294779\n",
      " 32.67599533  3.92736498 46.8294779   8.79732533  9.21591688 19.26491362\n",
      " 22.64579449 15.42837538  9.36771959  8.11697154 14.93396863  4.53643429\n",
      "  8.7471216   7.23124335 15.8452473   4.81649954 19.08445733  6.11033697\n",
      "  9.32764974 13.28484704 12.15347128  8.82994781  7.91711375 22.89728563\n",
      " 19.40851996 20.42442531 33.7885473  46.81945625 19.55305272  7.89779916\n",
      "  4.94745093  3.20723632  3.09582849  5.80073388 17.0865557   2.94892579\n",
      "  4.96076041  6.68044713  6.41077367 33.10645483 30.44321011  8.03478034\n",
      "  7.97071235 11.03008362  9.71799529 42.45091747 46.28822611  5.45367107\n",
      " 29.58081354 46.8114962  23.68822924 40.02043152 24.33492335 30.18589808\n",
      "  6.03592727  5.41970181  7.23016425  5.3469266   5.30110797  5.34073793\n",
      "  5.54803014 10.95152833 11.29700673  8.55822317  3.09825557  3.87887883\n",
      "  8.14010386  3.46005081  3.54518833  3.45968768  3.59431677  3.00775796\n",
      "  5.43762317  7.95288438 12.82892244 12.14277157  6.0881139  32.27772074\n",
      " 43.0931978  38.66144525  6.12273796 14.40335306 36.82742825 31.1184673\n",
      " 18.8831086  35.32188162 34.75260113 23.55597441 43.1525658  37.23571432\n",
      " 27.12555004 34.87187135 46.8294779  37.22644811  4.51935287 46.8294779\n",
      " 12.4394476   8.83921535 20.99433012 23.37687217 11.40526837  7.91015138\n",
      "  6.08831876 12.43715363  4.11257571  9.20401708  8.95951805 16.72286703\n",
      "  4.29636488 17.94953014  5.49169065 11.4992194   9.94870787 12.18777931\n",
      " 13.33266411 12.60665099  8.50374554 17.33916148 23.05231376 19.42832028\n",
      " 19.83198824 33.83994069 46.82056207 19.20567125  6.90032287  4.90474635\n",
      "  2.75251126  2.89359821  6.09490616 17.24212246  2.89751102  4.54139139\n",
      "  5.54847981  5.62657267 27.14724317 33.33850573  7.18009133  8.43152568\n",
      "  2.60995607  2.33417243 43.10879808 45.70569185  7.21408545 22.00370202\n",
      " 44.91983053 24.60921412 40.89212224 14.97937221 32.76386983  6.84684596\n",
      "  6.78187882  7.76956767  3.51661791  7.05006484  7.05878732  7.04933579\n",
      " 12.20802218 20.6606787  16.24769593  3.40526176  2.5966184   6.64650072\n",
      "  3.61172705  3.36106799  3.77346179  3.68333663  2.83492679  5.19963277\n",
      " 10.65106095 14.61692353 13.2376372   7.68459118 30.22652648 41.47838051\n",
      " 38.78117606  8.95476312  9.85239118  3.8088831  29.6410443  18.98185308\n",
      " 21.47378415  7.94698959 15.24680857 17.23314559 34.03657622  9.91655246\n",
      " 35.32867505 46.8294779  29.893756    4.48159753  2.60656036  4.75124407\n",
      "  4.21236749  4.14459339  2.66231528  3.13472704  2.80259414  3.47233901\n",
      "  5.26468828  9.23349578  7.06288084 16.4133202   4.99892364  9.58572237\n",
      "  5.93283403  2.50189673  2.40366115  9.13774638  2.13855606 13.18048861\n",
      " 22.96921462  8.68053595 19.00367501 34.25596242 46.53057462 20.12621931\n",
      "  7.86132254  4.86387288  3.0996252   3.12022524  5.85549267  3.03027707\n",
      " 12.01930782  8.47098513 12.17022953  8.36589886  4.08207935  2.30948453\n",
      " 10.80209609 13.8138408  15.26006187 10.01951697 13.30924232 15.42977102\n",
      "  7.75351611 14.01887793 15.44360888  6.02143657  3.83985698  8.06475196\n",
      "  3.65378741  6.91830846  5.72509105  5.50450597  6.30328968  5.68622644\n",
      "  6.86931708  5.15268383  6.23634791  3.29103967  2.19149556  6.39282272\n",
      "  9.87369218  7.89471391  8.59257542  6.23769333  8.48908254  2.92032564\n",
      " 41.31980777 42.31703838 41.72947877  7.18626061  7.59688641  8.74053493\n",
      "  7.61542838]\n"
     ]
    }
   ],
   "source": [
    "from sklearn.preprocessing import StandardScaler \n",
    "sc= StandardScaler()\n",
    "X_sc = sc.fit_transform(X)\n",
    "X_train_sc = sc.fit_transform(X_train)\n",
    "print('Features Min value before Scale : \\n {}'. format(X_train.min(axis=0)))\n",
    "print('Features Max value before Scale : \\n {}'. format(X_train.max(axis=0)))\n",
    "print('Features Min value after Scale : \\n {}'. format(X_train_sc.min(axis=0)))\n",
    "print('Features Max value after Scale : \\n {}'. format(X_train_sc.max(axis=0)))\n",
    "X_test_sc = sc.transform(X_test)"
   ]
  },
  {
   "cell_type": "markdown",
   "metadata": {},
   "source": [
    "(2) PCA차원축소\n",
    "\n",
    "- 많은 feature로 구성된 다차원 데이터 세트의 차원을 축소해 새로운 차원의 데이터 세트를 생성하는 것\n",
    "-  일반적으로 차원이 증가할수록, 즉 feature가 많아질수록 예측 신뢰도가 떨어지고, 과적합(overfitting)이 발생하고, 개별 feature간의 상관관계가 높을 가능성이 있음"
   ]
  },
  {
   "cell_type": "code",
   "execution_count": 24,
   "metadata": {},
   "outputs": [],
   "source": [
    "from sklearn.decomposition import PCA\n",
    "# Initializing PCA and fitting\n",
    "# Choose minimum number of PCA features that 85% variance is retained to avoid overfitting\n",
    "pca = PCA(0.85)\n",
    "X_sc_pca = pca.fit_transform(X_sc) # StandardScaler에서 학습용 데이터에 적용한 것처럼 fit과 transform 둘 다를 적용해줘야 하네~~??"
   ]
  },
  {
   "cell_type": "code",
   "execution_count": 25,
   "metadata": {},
   "outputs": [
    {
     "name": "stdout",
     "output_type": "stream",
     "text": [
      "PCA차원 축소 이전 X_train: (2194, 445)\n",
      "PCA차원 축소 이전 X_test: (732, 445)\n",
      "PCA차원 축소 이후 X_train: (2194, 105)\n",
      "PCA차원 축소 이후 X_test: (732, 105)\n"
     ]
    }
   ],
   "source": [
    "# Transform train and test datasets\n",
    "X_train_pca = pca.transform(X_train_sc)\n",
    "X_test_pca = pca.transform(X_test_sc)\n",
    "\n",
    "print('PCA차원 축소 이전 X_train:', X_train_sc.shape)\n",
    "print('PCA차원 축소 이전 X_test:', X_test_sc.shape)\n",
    "print('PCA차원 축소 이후 X_train:', X_train_pca.shape)\n",
    "print('PCA차원 축소 이후 X_test:', X_test_pca.shape)"
   ]
  },
  {
   "cell_type": "markdown",
   "metadata": {},
   "source": [
    "PCA차원 축소로 Feature가 446개에서 105개로 줄어 차원이 감소 됐음을 확인 할 수 있다."
   ]
  },
  {
   "cell_type": "markdown",
   "metadata": {},
   "source": [
    "## 2. Data Modeling"
   ]
  },
  {
   "cell_type": "markdown",
   "metadata": {},
   "source": [
    "### 교차검증\n",
    "- 보통은 train set 으로 모델을 훈련, test set으로 모델을 검증한다.고정된 test set을 통해 모델의 성능을 검증하고 수정하는 과정을 반복하면, 결국 내가 만든 모델은 test set 에만 잘 동작하는 모델이 된다.즉, test set에 과적합(overfitting)하게 되므로, 다른 실제 데이터를 가져와 예측을 수행하면 엉망인 결과가 나와버리게 된다.\n",
    "- 교차 검증은 train set을 train set + validation set으로 분리한 뒤, validation set을 사용해 검증하는 방식이다."
   ]
  },
  {
   "cell_type": "code",
   "execution_count": 26,
   "metadata": {},
   "outputs": [],
   "source": [
    "#inport libraries\n",
    "from numpy import mean\n",
    "from numpy import std\n",
    "from sklearn.datasets import make_classification\n",
    "from sklearn.model_selection import RepeatedStratifiedKFold\n",
    "from sklearn.model_selection import KFold  \n",
    "from sklearn.model_selection import ShuffleSplit\n",
    "\n",
    "from sklearn.model_selection import cross_val_score\n",
    "import xgboost as xgb\n",
    "from sklearn.ensemble import RandomForestClassifier\n",
    "from sklearn.metrics import confusion_matrix, accuracy_score, f1_score, recall_score, precision_score, average_precision_score, classification_report\n",
    "import warnings\n",
    "warnings.filterwarnings(action='ignore')\n",
    "# randomforest 에는 kFold 교차 검증 하는게 일반적 인듯..?"
   ]
  },
  {
   "cell_type": "markdown",
   "metadata": {},
   "source": [
    "### K-fold : \n",
    "#### 모든 데이터를 Fold라고 불리는 그룹으로 나누고 이를 split 하여 데이터 자체에서 훈련 데이터, 테스트 데이터를 반복적으로 선정합니다.\n",
    "\n",
    "### RepeatedStratifiedKFold : \n",
    "#### KFold를 n번 반복하는 반복자입니다. 각 반복마다 다른 분할을 생성하여 진행합니다.\n",
    "\n",
    "### ShuffleSplit : \n",
    "#### 데이터를 먼저 섞은 후에 Fold를 분할하는 방식입니다. random_state를 통하여 난수를 제어할 수 있습니다. KFold의 대안으로 좀 더 세밀한 반복자를 형성하는 방식입니다.\n"
   ]
  },
  {
   "cell_type": "code",
   "execution_count": 27,
   "metadata": {},
   "outputs": [
    {
     "data": {
      "text/plain": [
       "(2194, 105)"
      ]
     },
     "execution_count": 27,
     "metadata": {},
     "output_type": "execute_result"
    }
   ],
   "source": [
    "X_train_pca.shape"
   ]
  },
  {
   "cell_type": "code",
   "execution_count": 28,
   "metadata": {},
   "outputs": [
    {
     "data": {
      "text/plain": [
       "(2194,)"
      ]
     },
     "execution_count": 28,
     "metadata": {},
     "output_type": "execute_result"
    }
   ],
   "source": [
    "y_train.shape"
   ]
  },
  {
   "cell_type": "markdown",
   "metadata": {},
   "source": [
    "## 3. Data Evaluation\n",
    "- TP(true positive): 1로 예측했을 때 정답도 1인 경우\n",
    "- FP(false positive): 1로 예측했지만 정답은 0인 경우\n",
    "- FN(false negative): 0으로 예측했지만 정답은 1인 경우\n",
    "- TN(true negative): 0으로 예측했을 때 정답도 0인 경우\n",
    "- recall(재현율)=TP/(TP+FN): \n",
    "  양성 positive 케이스들에서 진짜 true 양성 positive로 예측에 성공한 확률\n",
    "- precision(정밀도)=TP/(TP+FP): \n",
    "  양성 positive라고 판단한 경우 중에 진짜 true 양성 positive인 확률\n",
    "- F1_score=2∗(precision∗recall)/precision+recall"
   ]
  },
  {
   "cell_type": "markdown",
   "metadata": {},
   "source": [
    "## Random forest"
   ]
  },
  {
   "cell_type": "code",
   "execution_count": 29,
   "metadata": {},
   "outputs": [],
   "source": [
    "rf = RandomForestClassifier(n_estimators=60)\n",
    "rf.fit(X_train_pca, y_train)\n",
    "pred = rf.predict(X_test_pca)"
   ]
  },
  {
   "cell_type": "code",
   "execution_count": 30,
   "metadata": {},
   "outputs": [
    {
     "name": "stdout",
     "output_type": "stream",
     "text": [
      "Accuracy: 98.36%\n"
     ]
    }
   ],
   "source": [
    "acc = rf.score(X_test_pca, y_test)\n",
    "print(\"Accuracy: {:.2f}%\".format(acc * 100))"
   ]
  },
  {
   "cell_type": "code",
   "execution_count": 31,
   "metadata": {},
   "outputs": [
    {
     "name": "stdout",
     "output_type": "stream",
     "text": [
      "confusion_matrix [[359   4]\n",
      " [  8 361]]\n",
      "accuracy score 0.9836065573770492\n",
      "f1_score 0.9836512261580382\n",
      "recall_score 0.978319783197832\n",
      "precision_score 0.978319783197832\n"
     ]
    }
   ],
   "source": [
    "# Import Libraries\n",
    "from sklearn.metrics import confusion_matrix, accuracy_score, f1_score, recall_score, precision_score\n",
    "\n",
    "print('confusion_matrix', confusion_matrix(pred, y_test))\n",
    "print('accuracy score', accuracy_score(pred, y_test))\n",
    "print('f1_score', f1_score(y_test,pred))\n",
    "print('recall_score', recall_score(pred, y_test))\n",
    "print('precision_score',precision_score(y_test,pred))"
   ]
  },
  {
   "cell_type": "markdown",
   "metadata": {},
   "source": [
    "## gridcv - decisiontree"
   ]
  },
  {
   "cell_type": "code",
   "execution_count": 35,
   "metadata": {},
   "outputs": [],
   "source": [
    "from sklearn.model_selection import GridSearchCV, RandomizedSearchCV, cross_val_score\n",
    "from pylab import rcParams\n",
    "rf_clf = RandomForestClassifier(n_estimators=100)"
   ]
  },
  {
   "cell_type": "code",
   "execution_count": 36,
   "metadata": {},
   "outputs": [
    {
     "name": "stdout",
     "output_type": "stream",
     "text": [
      "최적의 하이퍼 파라미터:{'max_depth': 44}, 최적의 평균 정확도:0.988\n"
     ]
    }
   ],
   "source": [
    "params = { 'max_depth' : [20, 24, 28, 32, 36, 40, 44, 48, 52, 56, 60],\n",
    "            }\n",
    "grid_clf = GridSearchCV(rf_clf, param_grid=params, scoring='accuracy', cv=10)\n",
    "grid_clf.fit(X_train_pca, y_train)\n",
    "\n",
    "print('최적의 하이퍼 파라미터:{0}, 최적의 평균 정확도:{1:.3f}'.format(grid_clf.best_params_, grid_clf.best_score_))"
   ]
  },
  {
   "cell_type": "code",
   "execution_count": 37,
   "metadata": {},
   "outputs": [
    {
     "name": "stdout",
     "output_type": "stream",
     "text": [
      "confusion_matrix\n",
      " [[362   3]\n",
      " [  5 362]]\n",
      "accuracy score :  0.9890710382513661\n",
      "f1_score :  0.9890710382513661\n",
      "recall_score :  0.9863760217983651\n",
      "precision_score :  0.9863760217983651\n"
     ]
    }
   ],
   "source": [
    "em = grid_clf.best_estimator_\n",
    "pred = em.predict(X_test_pca)\n",
    "\n",
    "print('confusion_matrix\\n', confusion_matrix(pred, y_test))\n",
    "print('accuracy score : ', accuracy_score(pred, y_test))\n",
    "print('f1_score : ', f1_score(y_test,pred))\n",
    "print('recall_score : ', recall_score(pred, y_test))\n",
    "print('precision_score : ',precision_score(y_test,pred))"
   ]
  },
  {
   "cell_type": "markdown",
   "metadata": {},
   "source": [
    "### 더 알아봐야함 밑에는 그래프 그리는거 대입하면 되고 하나더 밑에 scatter는 뭐 의미하는지 몰겄네"
   ]
  },
  {
   "cell_type": "code",
   "execution_count": 35,
   "metadata": {},
   "outputs": [
    {
     "data": {
      "image/png": "[encoded data removed]",
      "text/plain": [
       "<Figure size 1296x504 with 1 Axes>"
      ]
     },
     "metadata": {
      "needs_background": "light"
     },
     "output_type": "display_data"
    }
   ],
   "source": [
    "Recall = np.array([84.4, 87.9, 81.3,9.4,0,0,0])\n",
    "label = np.array(['Isolation Forest', 'Local Outlier Factor', 'Elliptic Envelop',\n",
    "                  'Logistic','XGBoost','Random Forest','Lasso'])\n",
    "indices = np.argsort(Recall)\n",
    "color = plt.cm.rainbow(np.linspace(0, 1, 9))\n",
    "\n",
    "plt.rcParams['figure.figsize'] = (18, 7)\n",
    "plt.bar(range(len(indices)), Recall[indices], color = color)\n",
    "plt.xticks(range(len(indices)), label[indices])\n",
    "plt.title('Recall Accuracy - Normal Data', fontsize = 30)\n",
    "plt.grid()\n",
    "plt.tight_layout()\n",
    "plt.show()"
   ]
  },
  {
   "cell_type": "code",
   "execution_count": 36,
   "metadata": {},
   "outputs": [
    {
     "data": {
      "text/plain": [
       "<matplotlib.collections.PathCollection at 0x1af6c616b50>"
      ]
     },
     "execution_count": 36,
     "metadata": {},
     "output_type": "execute_result"
    },
    {
     "data": {
      "image/png": "[encoded data removed]",
      "text/plain": [
       "<Figure size 1296x504 with 1 Axes>"
      ]
     },
     "metadata": {
      "needs_background": "light"
     },
     "output_type": "display_data"
    }
   ],
   "source": [
    "from sklearn.datasets import make_classification\n",
    "import matplotlib.pyplot as plt\n",
    "\n",
    "plt.title(\"3 Class values with 2 Features Sample Data Creation\")\n",
    "\n",
    "# 2차원 시각화를 위해 피처는 2개, 클래스는 3가지 유형의 분류 샘플 데이터 생성\n",
    "X_features, y_labels = make_classification(n_features=2, n_redundant=0, n_informative=2,\n",
    "                                                                  n_classes=3, n_clusters_per_class=1, random_state=0)\n",
    "\n",
    "# 그래프 형태로 2개의 피쳐로 2차원 좌표 시각화, 각 클래스 값은 다른 색으로 표시\n",
    "plt.scatter(X_features[:, 0], X_features[:, 1], marker='o', c=y_labels, s=25, edgecolor = 'k', cmap='rainbow')"
   ]
  },
  {
   "cell_type": "code",
   "execution_count": null,
   "metadata": {},
   "outputs": [],
   "source": []
  }
 ],
 "metadata": {
  "kernelspec": {
   "display_name": "Python 3",
   "language": "python",
   "name": "python3"
  },
  "language_info": {
   "codemirror_mode": {
    "name": "ipython",
    "version": 3
   },
   "file_extension": ".py",
   "mimetype": "text/x-python",
   "name": "python",
   "nbconvert_exporter": "python",
   "pygments_lexer": "ipython3",
   "version": "3.8.5"
  }
 },
 "nbformat": 4,
 "nbformat_minor": 4
}
